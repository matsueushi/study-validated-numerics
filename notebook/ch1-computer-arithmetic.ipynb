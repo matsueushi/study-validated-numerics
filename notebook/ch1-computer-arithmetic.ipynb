{
 "cells": [
  {
   "outputs": [
    {
     "name": "stdout",
     "output_type": "stream",
     "text": [
      "Activating environment at `~/Documents/study-validated-numerics/notebook/Project.toml`\n"
     ]
    }
   ],
   "cell_type": "code",
   "source": [
    "using Pkg; Pkg.activate(\".\"); Pkg.instantiate()"
   ],
   "metadata": {},
   "execution_count": 1
  },
  {
   "outputs": [],
   "cell_type": "markdown",
   "source": [
    "# Chapter 1. Computer Arithmetic"
   ],
   "metadata": {}
  },
  {
   "outputs": [],
   "cell_type": "markdown",
   "source": [
    "## 1.1 Positional Systems\n",
    "$\\beta \\in \\mathbb{Z}, \\beta \\ge 2$ : Integer base\n",
    "\n",
    "For $\\sigma \\in \\{-1, 1\\}$, $b_i \\in \\{ 0, 1, \\ldots, \\beta-1\\}$,\n",
    "\n",
    "\\begin{align*}\n",
    "(-1)^\\sigma (b_n b_{n-1} \\cdots b_0 . b_{-1} b_{-2} \\cdots)_\\beta\n",
    "&:= (-1)^\\sigma \\sum_{i=-\\infty}^n b_i \\beta^i  \\\\\n",
    "&= (-1)^\\sigma (b_n \\beta^n + b_{n-1} \\beta^{n-1} + \\cdots + b_0 + b_{-1} \\beta^{-1} + b_{-2} \\beta^{-2} + \\cdots)\n",
    "\\end{align*}\n",
    "\n",
    "Condition (a) $0 \\le b_i \\le \\beta - 1$ for all $i$.\n",
    "\n",
    "Condition (b) $0 \\le b_i \\le \\beta - 2$ for infinitely many $i$."
   ],
   "metadata": {}
  },
  {
   "outputs": [],
   "cell_type": "markdown",
   "source": [
    "**Prop**. For all nonzero $x \\in \\mathbb{R}$ has a unique representation above.\n",
    "\n",
    "**Proof**. (Uniqueness) Let $x = (-1)^\\sigma \\sum_{i=-\\infty}^n b_i \\beta^i = (-1)^{\\sigma^\\prime} \\sum_{i=-\\infty}^{n^\\prime} b^\\prime_i \\beta^i$.\n",
    "We can assume $\\sigma = \\sigma^\\prime = 1$ and $n \\ge n^\\prime$. Set $b_i = 0$ for $b_i^\\prime = 0$ for $n < i \\le n^\\prime$.\n",
    "By (b) we have $|b_n - b^\\prime_n|\\beta^n =  |b_n \\beta^n - b^\\prime_n\\beta^n| \\le \\sum_{i=-\\infty}^{n-1}|b_i^\\prime - b_i|\\beta^i <\n",
    "\\sum_{i=-\\infty}^{n-1}(\\beta-1)\\beta^i = (\\beta - 1)\\beta^{n-1}\\frac{1}{1-1/\\beta} = \\beta^n$.\n",
    "Since $b_n, b_n^\\prime \\in \\mathbb{Z}$ and $|b_n - b_n^\\prime| < 1 $, we get $b_n = b_n^\\prime$.\n",
    "It is clear that $x - b_n$ also satisfies the conditions (a) and (b), we conclude $b_{n-1} = b_{n-1}^\\prime$.\n",
    "By continuing this process, we see $b_i = b_i^\\prime$ for all $i$.\n",
    "\n",
    "(Existance) Without loss of generality, we can assume $x > 0$.\n",
    "By dividing $x$ by some $\\beta^i$, it suffices to show when $0 < x \\le 1$.\n",
    "The existance is trivial if $x = 1$. We recursively construct for all $n > 0$,\n",
    "an expression $x_n^\\prime = \\Sigma_{i=1}^n b_{-i}\\beta^{-i}$ such that $0 \\le x - x_n^\\prime < \\beta^{-n}$.\n",
    "Let $b_{-1}$ be the integer $i \\in [0, \\beta - 1]$ such that $x \\in [i \\beta^{-1}, (i+1) \\beta^{-1})$.\n",
    "It is clear that $0 \\le x - x_1^\\prime < \\beta^{-1}$.\n",
    "Reaplacing $x$ by $(x - x_1^\\prime)/\\beta$ and follow the same procesure, we can find $b_{-2}$.\n",
    "Continuing this process, we obtain a sequence $b_{-i}$.\n",
    "If this sequance violates the condition (b), there exists $m$ such that $b_{-i} = \\beta - 1$ for all $i > m$.\n",
    "By constuction, $x - x_{m-1}^\\prime < \\beta^{-m}$ but $x - x_{m-1}^\\prime = \\Sigma_{i=m}^{\\infty} (\\beta-1)\\beta^{-i} = \\beta^{-m}$, it leads a contradiction."
   ],
   "metadata": {}
  },
  {
   "outputs": [],
   "cell_type": "markdown",
   "source": [
    "## 1.2 Floating Point Numbers\n",
    "\\begin{align*}\n",
    "\\mathbb{R} \\supset &\\mathbb{F}_\\beta = \\{ (-1)^\\sigma m \\times \\beta^e \\mid m = (b_0 . b_{-1} b_{-2} \\cdots)_\\beta, m \\text{ satisfies (a) and (b)} \\} \\\\\n",
    "\\supset &\\mathbb{F}_{\\beta, p} = \\{ x \\in \\mathbb{F}_\\beta \\mid m = (b_0 . b_{-1} b_{-2} \\cdots b_{p-1})_\\beta \\} \\\\\n",
    "\\supset &\\mathbb{F}_{\\beta, p}^{\\check{e}, \\hat{e}} = \\{ x \\in \\mathbb{F}_{\\beta, p} \\mid \\check{e} \\le e \\le \\hat{e} \\}\n",
    "\\end{align*}\n",
    "$m$ : *mantiss*a of $x$, $e$ : *exponent* of $x$, $p$ : *precision*\n",
    "\n",
    "$\\mathbb{F}_\\beta$ : *floating point numbers*\n",
    "\n",
    "$\\mathbb{F}_{\\beta, p}^{\\check{e}, \\hat{e}} $ : *computer representable floating point numbers*"
   ],
   "metadata": {}
  },
  {
   "outputs": [],
   "cell_type": "markdown",
   "source": [
    "**Def**. We say a floating point number $x = (-1)^\\sigma (b_0 . b_{-1} b_{-2} \\cdots)_\\beta \\times \\beta^e$ is *normalized* if the leading digit $b_0$ is non-zero."
   ],
   "metadata": {}
  },
  {
   "outputs": [],
   "cell_type": "markdown",
   "source": [
    "Let's show the *largest positive normal number* $N_{\\max}^n$ and\n",
    "the *smallest positive normal number* $N_{\\min}^n$.\n",
    "The (union of) range $\\{ x \\in \\mathbb{R} \\mid N_{min}^n \\le |x| \\le N_{max}^n \\}$ is said to be the *normalized range*."
   ],
   "metadata": {}
  },
  {
   "outputs": [
    {
     "name": "stdout",
     "output_type": "stream",
     "text": [
      "Normalized range of Float16 is 6.104e-5 <= |x| <= 6.55e4\n",
      "Normalized range of Float32 is 1.1754944e-38 <= |x| <= 3.4028235e38\n",
      "Normalized range of Float64 is 2.2250738585072014e-308 <= |x| <= 1.7976931348623157e308\n"
     ]
    }
   ],
   "cell_type": "code",
   "source": [
    "# Normalized range\n",
    "const FloatTypes = (Float16, Float32, Float64)\n",
    "\n",
    "for T in FloatTypes\n",
    "    println(\"Normalized range of $(T) is \", floatmin(T), \" <= |x| <= \", floatmax(T))\n",
    "end"
   ],
   "metadata": {},
   "execution_count": 2
  },
  {
   "outputs": [],
   "cell_type": "markdown",
   "source": [
    "### 1.2.1 Subnormal numbers\n",
    "**Def**. $x \\in \\mathbb{F}_{\\beta, p}^{\\check{e}, \\hat{e}}$ is said to be *subnormal* if $b_0 = 0$ and $e = \\check{e}$."
   ],
   "metadata": {}
  },
  {
   "outputs": [],
   "cell_type": "markdown",
   "source": [
    "Let's find the *largest positive subnormal number* $N_{\\max}^s$ and\n",
    "the *smallest positive subnormal nubmer* $N_{\\min}^s$."
   ],
   "metadata": {}
  },
  {
   "outputs": [
    {
     "name": "stdout",
     "output_type": "stream",
     "text": [
      "Float16, N_min^s = 6.0e-8, N_max^s = 6.1e-5\n",
      "Float32, N_min^s = 1.0e-45, N_max^s = 1.1754942e-38\n",
      "Float64, N_min^s = 5.0e-324, N_max^s = 2.225073858507201e-308\n"
     ]
    }
   ],
   "cell_type": "code",
   "source": [
    "for T in FloatTypes\n",
    "    println(\"$(T), N_min^s = \", nextfloat(zero(T)), \", N_max^s = \", prevfloat(floatmin(T)))\n",
    "end"
   ],
   "metadata": {},
   "execution_count": 3
  },
  {
   "outputs": [],
   "cell_type": "markdown",
   "source": [
    "## 1.3. Rounding\n",
    "Let $\\mathbb{R}^* = \\mathbb{R} \\cup \\{ -\\infty, +\\infty \\}, \\mathbb{F}^* = \\mathbb{F} \\cup \\{ -\\infty, \\infty \\}$.\n",
    "\n",
    "**Def**. A *rounding* is a mapping $\\bigcirc : \\mathbb{R}^* \\rightarrow \\mathbb{F}^*$ satisfying the conditions (R1) and (R2):\n",
    "\n",
    "(R1) $x \\in \\mathbb{F}^* \\Rightarrow \\bigcirc (x) = x$.\n",
    "\n",
    "(R2, *Maximum quality*) $x, y \\in \\mathbb{R}^*, x \\le y \\Rightarrow \\bigcirc (x) \\le \\bigcirc (y)$"
   ],
   "metadata": {}
  },
  {
   "outputs": [],
   "cell_type": "markdown",
   "source": [
    "**Def**. Let $\\bigcirc$ be a rounding.\n",
    "\n",
    "(R3) $\\bigcirc$ is *odd* if $\\bigcirc (-x) = - \\bigcirc (x)$ for all $x \\in \\mathbb{R}^*$.\n",
    "\n",
    "(R4a) $\\bigcirc$ is *round toward minus infinity* if $\\bigcirc (x) \\le x$ for all $x \\in \\mathbb{R}^*$.\n",
    "\n",
    "(R4a) $\\bigcirc$ is *round toward plus infinity* if $\\bigcirc (x) \\ge x$ for all $x \\in \\mathbb{R}^*$."
   ],
   "metadata": {}
  },
  {
   "outputs": [],
   "cell_type": "markdown",
   "source": [
    "**Example**.\n",
    "*Rounded down:* $\\triangledown (x) = \\max \\{y \\in \\mathbb{F}^* \\mid y \\le x\\}$,\n",
    "\n",
    "*Rounded up:* $\\triangle (x) = \\min \\{y \\in \\mathbb{F}^* \\mid y \\ge x\\}$."
   ],
   "metadata": {}
  },
  {
   "outputs": [],
   "cell_type": "markdown",
   "source": [
    "If $x \\in \\mathbb{F}^*$, then $\\triangledown (x) = x = \\triangle (x)$, on the contrary\n",
    "if $x \\notin \\mathbb{F}^*$,  we have $\\triangledown (x) = x = \\triangle (x)$\n",
    "\n",
    "$\\triangledown$ and $\\triangle$ give the lower bound and upper bound of roundings: if $\\bigcirc$ is a rounding,\n",
    "$\\triangledown (x) \\le \\bigcirc (x) \\le \\triangle (x)$ for all $x$."
   ],
   "metadata": {}
  },
  {
   "outputs": [],
   "cell_type": "markdown",
   "source": [
    "Julia can create a float from a given `x` with a explicit rounding mode.\n",
    "See [`Core.Float32`](https://docs.julialang.org/en/v1/base/numbers/#Core.Float32-Tuple{Any}),\n",
    "[`Core.Float64`](https://docs.julialang.org/en/v1/base/numbers/#Core.Float64-Tuple{Any}).\n",
    "However, `0.1` is a floating-point literal and already converted into `Float64`,\n",
    "the expression `Float64(0.1, RoundDown)` is not equal to $\\triangledown (0.1)$."
   ],
   "metadata": {}
  },
  {
   "outputs": [
    {
     "name": "stdout",
     "output_type": "stream",
     "text": [
      "Float64\n",
      "0.10000000000000001\n"
     ]
    }
   ],
   "cell_type": "code",
   "source": [
    "using Printf\n",
    "\n",
    "println(typeof(0.1))\n",
    "@printf(\"%0.17f\\n\", Float64(0.1, RoundDown))"
   ],
   "metadata": {},
   "execution_count": 4
  },
  {
   "outputs": [],
   "cell_type": "markdown",
   "source": [
    "Similarly, `1/10` is a floating-point literal."
   ],
   "metadata": {}
  },
  {
   "outputs": [
    {
     "name": "stdout",
     "output_type": "stream",
     "text": [
      "Float64\n",
      "0.10000000000000001\n"
     ]
    }
   ],
   "cell_type": "code",
   "source": [
    "println(typeof(1/10))\n",
    "@printf(\"%0.17f\\n\", Float64(1/10, RoundDown))"
   ],
   "metadata": {},
   "execution_count": 5
  },
  {
   "outputs": [],
   "cell_type": "markdown",
   "source": [
    "Using a [rational number type](https://docs.julialang.org/en/v1/manual/complex-and-rational-numbers/#Rational-Numbers-1),\n",
    "we can calculate $\\triangledown (0.1)$ properly."
   ],
   "metadata": {}
  },
  {
   "outputs": [
    {
     "name": "stdout",
     "output_type": "stream",
     "text": [
      "Rational{Int64}\n",
      "0.09999999999999999\n"
     ]
    }
   ],
   "cell_type": "code",
   "source": [
    "println(typeof(1//10))\n",
    "@printf(\"%0.17f\\n\", Float64(1//10, RoundDown))"
   ],
   "metadata": {},
   "execution_count": 6
  },
  {
   "outputs": [
    {
     "name": "stdout",
     "output_type": "stream",
     "text": [
      "RoundingMode{:Nearest}(), ∘(0.1) = 0.10000000000000001, ∘(-0.1) = -0.10000000000000001, ∘(3.141592653589793) = 3.14159265358979312\n",
      "RoundingMode{:ToZero}(), ∘(0.1) = 0.10000000000000001, ∘(-0.1) = -0.10000000000000001, ∘(3.141592653589793) = 3.14159265358979312\n",
      "RoundingMode{:Up}(), ∘(0.1) = 0.10000000000000001, ∘(-0.1) = -0.10000000000000001, ∘(3.141592653589793) = 3.14159265358979312\n",
      "RoundingMode{:Down}(), ∘(0.1) = 0.10000000000000001, ∘(-0.1) = -0.10000000000000001, ∘(3.141592653589793) = 3.14159265358979312\n"
     ]
    }
   ],
   "cell_type": "code",
   "source": [
    "# Rounding methods (in Float64)\n",
    "rounding_modes = [RoundNearest,\n",
    "# RoundNearestTiesAway,\n",
    "# RoundNearestTiesUp,\n",
    "                  RoundToZero,\n",
    "                  RoundUp,\n",
    "                  RoundDown]\n",
    "\n",
    "for mode in rounding_modes\n",
    "    print(\"$(mode)\")\n",
    "    for x in [1//10, -1//10, π]\n",
    "        print(\", ∘($(x)) = \")\n",
    "        @printf(\"%0.17f\", Float64(x, mode))\n",
    "    end\n",
    "    println()\n",
    "end"
   ],
   "metadata": {},
   "execution_count": 7
  },
  {
   "outputs": [],
   "cell_type": "markdown",
   "source": [
    "### 1.3.1 Round to Zero\n",
    "**Def**. $\\square_z : \\mathbb{R}^* \\rightarrow \\mathbb{F}^*, \\square_z (x) =\n",
    "\\text{sign} (x) \\max \\{ y \\in \\mathbb{F}^* \\mid y \\le |x| \\} =\n",
    "\\text{sign} (x) \\triangledown (|x|)$."
   ],
   "metadata": {}
  },
  {
   "outputs": [],
   "cell_type": "markdown",
   "source": [
    "### 1.3.4 Rounding Errors"
   ],
   "metadata": {}
  },
  {
   "outputs": [
    {
     "name": "stdout",
     "output_type": "stream",
     "text": [
      "1//10, Float16, Round down = 0.09997558593750000, Round up = 0.10003662109375000\n",
      "1//10, Float32, Round down = 0.09999999403953552, Round up = 0.10000000149011612\n",
      "1//10, Float64, Round down = 0.09999999999999999, Round up = 0.10000000000000001\n"
     ]
    }
   ],
   "cell_type": "code",
   "source": [
    "for T in FloatTypes\n",
    "    @printf(\"1//10, %s, Round down = %0.17f, Round up = %0.17f\\n\", T, T(1//10, RoundDown), T(1//10, RoundUp))\n",
    "end"
   ],
   "metadata": {},
   "execution_count": 8
  },
  {
   "outputs": [],
   "cell_type": "markdown",
   "source": [
    "## 1.4. Floating Point Arithmetic\n",
    "For any one of the arithmetic operations $\\star \\in \\{ +, -, \\times, / \\}$,\n",
    "let $⍟ \\in \\{ \\oplus, \\ominus, \\otimes, \\oslash \\}$ denote the corresponding operator in $\\mathbb{F}$.\n",
    "\n",
    "**Def**. The floating point arithmetis is said to have *maximum quality* if\n",
    "(R5) $x, y \\in \\mathbb{F}$ and $\\star \\in \\{ +, -, \\times, / \\} \\Rightarrow x ⍟ y = \\bigcirc (x \\star y)$."
   ],
   "metadata": {}
  },
  {
   "outputs": [],
   "cell_type": "markdown",
   "source": [
    "### Julia Base\n",
    "Julia has a method [`Base.Rounding.setrounding`](https://docs.julialang.org/en/v1/base/numbers/#Base.Rounding.setrounding-Tuple{Type,Any}) but it only supports `BigFloat`.\n",
    "See [Deprecate setrounding #27166](https://github.com/JuliaLang/julia/pull/27166)."
   ],
   "metadata": {}
  },
  {
   "outputs": [],
   "cell_type": "markdown",
   "source": [
    "### FastRounding.jl\n",
    "[FastRounding.jl](https://github.com/JeffreySarnoff/FastRounding.jl) provides arithmetic operations\n",
    "with directed rounding modes."
   ],
   "metadata": {}
  },
  {
   "outputs": [
    {
     "name": "stdout",
     "output_type": "stream",
     "text": [
      "a * b, rounded down = 0.9999999999999999\n",
      "a * b, rounded down = 0.9999999999999999\n",
      "√2, rounded up = 1.4142135623730951\n"
     ]
    }
   ],
   "cell_type": "code",
   "source": [
    "using FastRounding\n",
    "\n",
    "a = 1/3\n",
    "b = 3.0\n",
    "\n",
    "println(\"a * b, rounded down = \", mul_round(a, b, RoundDown))\n",
    "\n",
    "println(\"a * b, rounded down = \", ⊗₋(a, b)) # Equivalent exports\n",
    "\n",
    "println(\"√2, rounded up = \", sqrt_round(2.0, RoundUp))"
   ],
   "metadata": {},
   "execution_count": 9
  },
  {
   "outputs": [],
   "cell_type": "markdown",
   "source": [
    "**Example**. Define the tenary shift map\n",
    "$f : [0, 1] \\rightarrow [0,1]$ by $f(x) = 3x \\mod 1$.\n",
    "It has a cycle $\\frac{1}{10} \\rightarrow \\frac{3}{10} \\rightarrow \\frac{9}{10} \\rightarrow \\frac{7}{10} \\rightarrow \\frac{1}{10}$ of four."
   ],
   "metadata": {}
  },
  {
   "outputs": [
    {
     "name": "stdout",
     "output_type": "stream",
     "text": [
      "x(0) = 0.10000000000000001\n",
      "x(1) = 0.30000000000000004\n",
      "x(2) = 0.90000000000000013\n",
      "x(3) = 0.70000000000000018\n",
      "x(4) = 0.10000000000000053\n",
      "x(5) = 0.30000000000000160\n",
      "x(6) = 0.90000000000000480\n",
      "x(7) = 0.70000000000001439\n",
      "x(8) = 0.10000000000004317\n",
      "x(9) = 0.30000000000012950\n",
      "x(10) = 0.90000000000038849\n",
      "x(11) = 0.70000000000116547\n",
      "x(12) = 0.10000000000349640\n",
      "x(13) = 0.30000000001048921\n",
      "x(14) = 0.90000000003146763\n",
      "x(15) = 0.70000000009440289\n",
      "x(16) = 0.10000000028320866\n",
      "x(17) = 0.30000000084962597\n",
      "x(18) = 0.90000000254887791\n",
      "x(19) = 0.70000000764663373\n",
      "x(20) = 0.10000002293990118\n",
      "x(21) = 0.30000006881970354\n",
      "x(22) = 0.90000020645911061\n",
      "x(23) = 0.70000061937733182\n",
      "x(24) = 0.10000185813199547\n",
      "x(25) = 0.30000557439598641\n",
      "x(26) = 0.90001672318795922\n",
      "x(27) = 0.70005016956387767\n",
      "x(28) = 0.10015050869163300\n",
      "x(29) = 0.30045152607489900\n",
      "x(30) = 0.90135457822469700\n",
      "x(31) = 0.70406373467409100\n",
      "x(32) = 0.11219120402227301\n",
      "x(33) = 0.33657361206681902\n",
      "x(34) = 0.00972083620045705\n",
      "x(35) = 0.02916250860137115\n",
      "x(36) = 0.08748752580411345\n",
      "x(37) = 0.26246257741234036\n",
      "x(38) = 0.78738773223702108\n",
      "x(39) = 0.36216319671106323\n",
      "x(40) = 0.08648959013318969\n",
      "x(41) = 0.25946877039956906\n",
      "x(42) = 0.77840631119870718\n",
      "x(43) = 0.33521893359612154\n",
      "x(44) = 0.00565680078836461\n",
      "x(45) = 0.01697040236509384\n",
      "x(46) = 0.05091120709528152\n",
      "x(47) = 0.15273362128584456\n",
      "x(48) = 0.45820086385753367\n",
      "x(49) = 0.37460259157260101\n",
      "x(50) = 0.12380777471780302\n",
      "x(51) = 0.37142332415340906\n",
      "x(52) = 0.11426997246022719\n"
     ]
    }
   ],
   "cell_type": "code",
   "source": [
    "# tenary shift map\n",
    "tenary_shift(x) = mod(3x, 1)\n",
    "\n",
    "let x = 0.1\n",
    "    for i in 0:52\n",
    "        @printf(\"x(%d) = %0.17f\\n\", i, x)\n",
    "        x = tenary_shift(x)\n",
    "    end\n",
    "end"
   ],
   "metadata": {},
   "execution_count": 10
  },
  {
   "outputs": [],
   "cell_type": "markdown",
   "source": [
    "**Example**. Calculate the values of the following three symbolically equivalent expressions at $x = 0.0031834$:\n",
    "1. $r_1(x) = 1 - \\frac{1}{\\sqrt{1 + x}}$,\n",
    "2. $r_2(x) = \\frac{\\sqrt{1 + x} - 1}{\\sqrt{1 + x}}$,\n",
    "3. $r_3(x) = \\frac{x}{1 + x + \\sqrt{1 + x}}$"
   ],
   "metadata": {}
  },
  {
   "outputs": [
    {
     "name": "stdout",
     "output_type": "stream",
     "text": [
      "Float16, r1(x) = 0.00097656250000000, r2(x) = 0.00097560882568359, r3(x) = 0.00158882141113281\n",
      "Float32, r1(x) = 0.00158786773681641, r2(x) = 0.00158784585073590, r3(x) = 0.00158790999557823\n",
      "Float64, r1(x) = 0.00158790979012879, r2(x) = 0.00158790979012880, r3(x) = 0.00158790979012880\n"
     ]
    }
   ],
   "cell_type": "code",
   "source": [
    "x = 0.0031834\n",
    "\n",
    "r1(x) = 1 - 1 / sqrt(1 + x)\n",
    "r2(x) = (sqrt(1 + x) - 1) / sqrt(1 + x)\n",
    "r3(x) = x / (1 + x + sqrt(1 + x))\n",
    "\n",
    "for T in FloatTypes\n",
    "    @printf(\"%s, r1(x) = %0.17f, r2(x) = %0.17f, r3(x) = %0.17f\\n\", T, r1(T(x)), r2(T(x)), r3(T(x)))\n",
    "end"
   ],
   "metadata": {},
   "execution_count": 11
  },
  {
   "outputs": [],
   "cell_type": "markdown",
   "source": [
    "**Example**.  $\\theta = 1.23456^\\circ$,\n",
    "1. $s_1(\\theta) = \\sin \\left( \\frac{\\theta}{2} \\right)^2$,\n",
    "2. $s_2(\\theta) = \\frac{1 - \\cos(\\theta)}{2}$"
   ],
   "metadata": {}
  },
  {
   "outputs": [
    {
     "name": "stdout",
     "output_type": "stream",
     "text": [
      "Float16, s1(x) = 0.00011587142944336, s2(x) = 0.00000000000000000\n",
      "Float32, s1(x) = 0.00011606528278207, s2(x) = 0.00011608004570007\n",
      "Float64, s1(x) = 0.00011606528555259, s2(x) = 0.00011606528555258\n"
     ]
    }
   ],
   "cell_type": "code",
   "source": [
    "θ = 1.23456\n",
    "\n",
    "s1(x) = sind(x / 2)^2\n",
    "s2(x) = (1 - cosd(x)) / 2\n",
    "\n",
    "for T in FloatTypes\n",
    "    @printf(\"%s, s1(x) = %0.17f, s2(x) = %0.17f\\n\", T, s1(T(θ)), s2(T(θ)))\n",
    "end"
   ],
   "metadata": {},
   "execution_count": 12
  },
  {
   "outputs": [],
   "cell_type": "markdown",
   "source": [
    "**Def**. The machine epsilon $\\epsilon_M$ is the smallest positive floating point number $x$ satisfying\n",
    "$\\triangledown (1 + x) > 1$. i.e. $\\min \\{ x \\in \\mathbb{F} \\mid \\triangledown (1 + x) > 1 \\}$.\n",
    "\n",
    "**Def**. The machine eta $\\eta_M$ is the smallest positive floating point number $x$ satisfying\n",
    "$\\triangledown (x) > 0$. It is equal to the smallest positive subnormal number $N_{\\min}^s$."
   ],
   "metadata": {}
  },
  {
   "outputs": [
    {
     "name": "stdout",
     "output_type": "stream",
     "text": [
      "Machine epsilon of Float16 = 0.000977\n",
      "Machine epsilon of Float32 = 1.1920929e-7\n",
      "Machine epsilon of Float64 = 2.220446049250313e-16\n",
      "Machine eta of Float16 = 6.0e-8\n",
      "Machine eta of Float32 = 1.0e-45\n",
      "Machine eta of Float64 = 5.0e-324\n"
     ]
    }
   ],
   "cell_type": "code",
   "source": [
    "# Machine epsilon\n",
    "for T in FloatTypes\n",
    "    println(\"Machine epsilon of $(T) = \", eps(T))\n",
    "end\n",
    "\n",
    "# Machine epsilon\n",
    "for T in FloatTypes\n",
    "    println(\"Machine eta of $(T) = \", eps(zero(T)))\n",
    "end"
   ],
   "metadata": {},
   "execution_count": 13
  },
  {
   "outputs": [],
   "cell_type": "markdown",
   "source": [
    "## 1.5. The IEEE standard"
   ],
   "metadata": {}
  },
  {
   "outputs": [
    {
     "name": "stdout",
     "output_type": "stream",
     "text": [
      "Float16, exponent width in bits = 5, precision = 11, exponent bias = 15, maximal exponent = 16\n",
      "Float32, exponent width in bits = 8, precision = 24, exponent bias = 127, maximal exponent = 128\n",
      "Float64, exponent width in bits = 11, precision = 53, exponent bias = 1023, maximal exponent = 1024\n"
     ]
    }
   ],
   "cell_type": "code",
   "source": [
    "using Base: exponent_bits, exponent_mask, exponent_one, significand_bits\n",
    "for T in FloatTypes\n",
    "    # The followings are defined on >= 1.4\n",
    "    @eval exponent_bias(::Type{$T}) = $(Int(exponent_one(T) >> significand_bits(T)))\n",
    "    @eval exponent_max(::Type{$T}) = $(Int(exponent_mask(T) >> significand_bits(T)) - exponent_bias(T))\n",
    "\n",
    "    println(\"$(T), exponent width in bits = \", exponent_bits(T), \", precision = \", precision(T),\n",
    "            \", exponent bias = \", exponent_bias(T), \", maximal exponent = \", exponent_max(T))\n",
    "end"
   ],
   "metadata": {},
   "execution_count": 14
  },
  {
   "outputs": [
    {
     "output_type": "execute_result",
     "data": {
      "text/plain": "print_float_format (generic function with 1 method)"
     },
     "metadata": {},
     "execution_count": 15
    }
   ],
   "cell_type": "code",
   "source": [
    "ieee_digits(::Type{T}) where {T<:Base.IEEEFloat} = (1, Base.exponent_bits(T), precision(T) - 1)\n",
    "\n",
    "function print_float_format(x::T) where {T<:Base.IEEEFloat}\n",
    "    bit_x = bitstring(x)\n",
    "    digits = ieee_digits(T)\n",
    "    n = sum(digits) + Base.length(digits) + 1\n",
    "    print(\"-\")\n",
    "    i = 1\n",
    "    for j in digits\n",
    "        print(bit_x[i:i+j-1], \"-\")\n",
    "        i += j\n",
    "    end\n",
    "    println()\n",
    "end"
   ],
   "metadata": {},
   "execution_count": 15
  },
  {
   "outputs": [
    {
     "name": "stdout",
     "output_type": "stream",
     "text": [
      "The smallest positive normal number of Float16 = 6.104e-5\n",
      "-0-00001-0000000000-\n",
      "\n",
      "The largest normal number of Float16 = 6.55e4\n",
      "-0-11110-1111111111-\n",
      "\n",
      "The smallest positive normal number of Float32 = 1.1754944e-38\n",
      "-0-00000001-00000000000000000000000-\n",
      "\n",
      "The largest normal number of Float32 = 3.4028235e38\n",
      "-0-11111110-11111111111111111111111-\n",
      "\n",
      "The smallest positive normal number of Float64 = 2.2250738585072014e-308\n",
      "-0-00000000001-0000000000000000000000000000000000000000000000000000-\n",
      "\n",
      "The largest normal number of Float64 = 1.7976931348623157e308\n",
      "-0-11111111110-1111111111111111111111111111111111111111111111111111-\n",
      "\n"
     ]
    }
   ],
   "cell_type": "code",
   "source": [
    "# Bitstring expression of normalized range\n",
    "for T in FloatTypes\n",
    "    n_min_n = floatmin(T)\n",
    "    n_max_n = floatmax(T)\n",
    "    println(\"The smallest positive normal number of $(T) = \", n_min_n)\n",
    "    print_float_format(n_min_n)\n",
    "    println()\n",
    "    println(\"The largest normal number of $(T) = \", n_max_n)\n",
    "    print_float_format(n_max_n)\n",
    "    println()\n",
    "end"
   ],
   "metadata": {},
   "execution_count": 16
  },
  {
   "outputs": [
    {
     "name": "stdout",
     "output_type": "stream",
     "text": [
      "The smallest positive subnormal number of Float16 = 6.0e-8\n",
      "-0-00000-0000000001-\n",
      "\n",
      "The largest subnormal number of Float16 = 6.1e-5\n",
      "-0-00000-1111111111-\n",
      "\n",
      "The smallest positive subnormal number of Float32 = 1.0e-45\n",
      "-0-00000000-00000000000000000000001-\n",
      "\n",
      "The largest subnormal number of Float32 = 1.1754942e-38\n",
      "-0-00000000-11111111111111111111111-\n",
      "\n",
      "The smallest positive subnormal number of Float64 = 5.0e-324\n",
      "-0-00000000000-0000000000000000000000000000000000000000000000000001-\n",
      "\n",
      "The largest subnormal number of Float64 = 2.225073858507201e-308\n",
      "-0-00000000000-1111111111111111111111111111111111111111111111111111-\n",
      "\n"
     ]
    }
   ],
   "cell_type": "code",
   "source": [
    "# Subnormal numbers\n",
    "for T in FloatTypes\n",
    "    n_min_s = nextfloat(zero(T))\n",
    "    n_max_s = prevfloat(floatmin(T))\n",
    "    println(\"The smallest positive subnormal number of $(T) = \", n_min_s)\n",
    "    print_float_format(n_min_s)\n",
    "    println()\n",
    "\n",
    "    println(\"The largest subnormal number of $(T) = \", n_max_s)\n",
    "    print_float_format(n_max_s)\n",
    "    println()\n",
    "end"
   ],
   "metadata": {},
   "execution_count": 17
  },
  {
   "outputs": [
    {
     "name": "stdout",
     "output_type": "stream",
     "text": [
      "NaN of Float16:\n",
      "-0-11111-1000000000-\n",
      "\n",
      "-Inf of Float16:\n",
      "-1-11111-0000000000-\n",
      "\n",
      "Inf of Float16:\n",
      "-0-11111-0000000000-\n",
      "\n",
      "NaN of Float32:\n",
      "-0-11111111-10000000000000000000000-\n",
      "\n",
      "-Inf of Float32:\n",
      "-1-11111111-00000000000000000000000-\n",
      "\n",
      "Inf of Float32:\n",
      "-0-11111111-00000000000000000000000-\n",
      "\n",
      "NaN of Float64:\n",
      "-0-11111111111-1000000000000000000000000000000000000000000000000000-\n",
      "\n",
      "-Inf of Float64:\n",
      "-1-11111111111-0000000000000000000000000000000000000000000000000000-\n",
      "\n",
      "Inf of Float64:\n",
      "-0-11111111111-0000000000000000000000000000000000000000000000000000-\n",
      "\n"
     ]
    }
   ],
   "cell_type": "code",
   "source": [
    "# NaN, -Inf, Inf\n",
    "for T in FloatTypes\n",
    "    ninf = T(-Inf)\n",
    "    inf = T(Inf)\n",
    "    println(\"NaN of $(T):\")\n",
    "    print_float_format(T(NaN))\n",
    "    println()\n",
    "\n",
    "    println(\"-Inf of $(T):\")\n",
    "    print_float_format(T(-Inf))\n",
    "    println()\n",
    "\n",
    "    println(\"Inf of $(T):\")\n",
    "    print_float_format(T(Inf))\n",
    "    println()\n",
    "end"
   ],
   "metadata": {},
   "execution_count": 18
  },
  {
   "outputs": [],
   "cell_type": "markdown",
   "source": [
    "## 1.6. Examples of Floating Point Computations\n",
    "**Example**. Print the first 40 factorials $n! = 1 \\cdot 2 \\cdots n$."
   ],
   "metadata": {}
  },
  {
   "outputs": [
    {
     "name": "stdout",
     "output_type": "stream",
     "text": [
      "0! = 1\n",
      "1! = 1\n",
      "2! = 2\n",
      "3! = 6\n",
      "4! = 24\n",
      "5! = 120\n",
      "6! = 720\n",
      "7! = 5040\n",
      "8! = 40320\n",
      "9! = 362880\n",
      "10! = 3628800\n",
      "11! = 39916800\n",
      "12! = 479001600\n",
      "13! = 6227020800\n",
      "14! = 87178291200\n",
      "15! = 1307674368000\n",
      "16! = 20922789888000\n",
      "17! = 355687428096000\n",
      "18! = 6402373705728000\n",
      "19! = 121645100408832000\n",
      "20! = 2432902008176640000\n",
      "21! = -4249290049419214848\n",
      "22! = -1250660718674968576\n",
      "23! = 8128291617894825984\n",
      "24! = -7835185981329244160\n",
      "25! = 7034535277573963776\n",
      "26! = -1569523520172457984\n",
      "27! = -5483646897237262336\n",
      "28! = -5968160532966932480\n",
      "29! = -7055958792655077376\n",
      "30! = -8764578968847253504\n",
      "31! = 4999213071378415616\n",
      "32! = -6045878379276664832\n",
      "33! = 3400198294675128320\n",
      "34! = 4926277576697053184\n",
      "35! = 6399018521010896896\n",
      "36! = 9003737871877668864\n",
      "37! = 1096907932701818880\n",
      "38! = 4789013295250014208\n",
      "39! = 2304077777655037952\n",
      "40! = -70609262346240000\n"
     ]
    }
   ],
   "cell_type": "code",
   "source": [
    "factorial(n) = n == 0 ? 1 : n * factorial(n - 1)\n",
    "\n",
    "for n in 0:40\n",
    "    println(n, \"! = \", factorial(n))\n",
    "end"
   ],
   "metadata": {},
   "execution_count": 19
  },
  {
   "outputs": [],
   "cell_type": "markdown",
   "source": [
    "**Example**. Evaluate $f(x, y) = 333.75y^6 + x^2(11x^2y^2 - y^6 - 121y^4 - 2) + 5.5y^8 + x/(2y)$ for $(x, y) = (77617, 33096)$"
   ],
   "metadata": {}
  },
  {
   "outputs": [
    {
     "name": "stdout",
     "output_type": "stream",
     "text": [
      "rump(x, y) = NaN\n",
      "rump(x, y) = -6.338253e29\n",
      "rump(x, y) = -1.1805916207174113e21\n"
     ]
    }
   ],
   "cell_type": "code",
   "source": [
    "rump(x::Real, y::Real) = oftype(x, 333.75) * y^6 + x^2 * (11x^2 * y^2 - y^6 - 121y^4 -2) + oftype(x, 5.5) * y^8 + x/(2y)\n",
    "\n",
    "x, y = 77617, 33096\n",
    "for T in FloatTypes\n",
    "    println(\"rump(x, y) = \", rump(T(x), T(y)))\n",
    "end"
   ],
   "metadata": {},
   "execution_count": 20
  },
  {
   "outputs": [],
   "cell_type": "markdown",
   "source": [
    "**Example**. Plot\n",
    "\\begin{align*}\n",
    "p(x) &= t^6 - 6t^5 + 15t^4 - 20t^3 + 15t^2 - 6t + 1 \\ (\\text{expanded}) \\\\\n",
    "&= (((((t - 6)t + 15)t - 20)t + 15)t - 6) + 1 \\ (\\text{Horner}) \\\\\n",
    "&= (t - 1)^6 \\ (\\text{factored})\n",
    "\\end{align*}\n",
    "\n",
    "around $x = 1.0$."
   ],
   "metadata": {}
  },
  {
   "outputs": [
    {
     "output_type": "execute_result",
     "data": {
      "text/plain": "Plot{Plots.GRBackend() n=3}",
      "image/png": "[encoded data removed]",
      "text/html": [
       "<?xml version=\"1.0\" encoding=\"utf-8\"?>\n",
       "<svg xmlns=\"http://www.w3.org/2000/svg\" xmlns:xlink=\"http://www.w3.org/1999/xlink\" width=\"600\" height=\"400\" viewBox=\"0 0 2400 1600\">\n",
       "<defs>\n",
       "  <clipPath id=\"clip4400\">\n",
       "    <rect x=\"0\" y=\"0\" width=\"2400\" height=\"1600\"/>\n",
       "  </clipPath>\n",
       "</defs>\n",
       "<path clip-path=\"url(#clip4400)\" d=\"\n",
       "M0 1600 L2400 1600 L2400 0 L0 0  Z\n",
       "  \" fill=\"#ffffff\" fill-rule=\"evenodd\" fill-opacity=\"1\"/>\n",
       "<defs>\n",
       "  <clipPath id=\"clip4401\">\n",
       "    <rect x=\"480\" y=\"0\" width=\"1681\" height=\"1600\"/>\n",
       "  </clipPath>\n",
       "</defs>\n",
       "<path clip-path=\"url(#clip4400)\" d=\"\n",
       "M383.159 1487.47 L2352.76 1487.47 L2352.76 47.2441 L383.159 47.2441  Z\n",
       "  \" fill=\"#ffffff\" fill-rule=\"evenodd\" fill-opacity=\"1\"/>\n",
       "<defs>\n",
       "  <clipPath id=\"clip4402\">\n",
       "    <rect x=\"383\" y=\"47\" width=\"1971\" height=\"1441\"/>\n",
       "  </clipPath>\n",
       "</defs>\n",
       "<polyline clip-path=\"url(#clip4402)\" style=\"stroke:#000000; stroke-width:2; stroke-opacity:0.1; fill:none\" points=\"\n",
       "  624.713,1487.47 624.713,47.2441 \n",
       "  \"/>\n",
       "<polyline clip-path=\"url(#clip4402)\" style=\"stroke:#000000; stroke-width:2; stroke-opacity:0.1; fill:none\" points=\"\n",
       "  996.335,1487.47 996.335,47.2441 \n",
       "  \"/>\n",
       "<polyline clip-path=\"url(#clip4402)\" style=\"stroke:#000000; stroke-width:2; stroke-opacity:0.1; fill:none\" points=\"\n",
       "  1367.96,1487.47 1367.96,47.2441 \n",
       "  \"/>\n",
       "<polyline clip-path=\"url(#clip4402)\" style=\"stroke:#000000; stroke-width:2; stroke-opacity:0.1; fill:none\" points=\"\n",
       "  1739.58,1487.47 1739.58,47.2441 \n",
       "  \"/>\n",
       "<polyline clip-path=\"url(#clip4402)\" style=\"stroke:#000000; stroke-width:2; stroke-opacity:0.1; fill:none\" points=\"\n",
       "  2111.2,1487.47 2111.2,47.2441 \n",
       "  \"/>\n",
       "<polyline clip-path=\"url(#clip4402)\" style=\"stroke:#000000; stroke-width:2; stroke-opacity:0.1; fill:none\" points=\"\n",
       "  383.159,1283.67 2352.76,1283.67 \n",
       "  \"/>\n",
       "<polyline clip-path=\"url(#clip4402)\" style=\"stroke:#000000; stroke-width:2; stroke-opacity:0.1; fill:none\" points=\"\n",
       "  383.159,977.715 2352.76,977.715 \n",
       "  \"/>\n",
       "<polyline clip-path=\"url(#clip4402)\" style=\"stroke:#000000; stroke-width:2; stroke-opacity:0.1; fill:none\" points=\"\n",
       "  383.159,671.761 2352.76,671.761 \n",
       "  \"/>\n",
       "<polyline clip-path=\"url(#clip4402)\" style=\"stroke:#000000; stroke-width:2; stroke-opacity:0.1; fill:none\" points=\"\n",
       "  383.159,365.807 2352.76,365.807 \n",
       "  \"/>\n",
       "<polyline clip-path=\"url(#clip4402)\" style=\"stroke:#000000; stroke-width:2; stroke-opacity:0.1; fill:none\" points=\"\n",
       "  383.159,59.853 2352.76,59.853 \n",
       "  \"/>\n",
       "<polyline clip-path=\"url(#clip4400)\" style=\"stroke:#000000; stroke-width:4; stroke-opacity:1; fill:none\" points=\"\n",
       "  383.159,1487.47 2352.76,1487.47 \n",
       "  \"/>\n",
       "<polyline clip-path=\"url(#clip4400)\" style=\"stroke:#000000; stroke-width:4; stroke-opacity:1; fill:none\" points=\"\n",
       "  383.159,1487.47 383.159,47.2441 \n",
       "  \"/>\n",
       "<polyline clip-path=\"url(#clip4400)\" style=\"stroke:#000000; stroke-width:4; stroke-opacity:1; fill:none\" points=\"\n",
       "  624.713,1487.47 624.713,1470.19 \n",
       "  \"/>\n",
       "<polyline clip-path=\"url(#clip4400)\" style=\"stroke:#000000; stroke-width:4; stroke-opacity:1; fill:none\" points=\"\n",
       "  996.335,1487.47 996.335,1470.19 \n",
       "  \"/>\n",
       "<polyline clip-path=\"url(#clip4400)\" style=\"stroke:#000000; stroke-width:4; stroke-opacity:1; fill:none\" points=\"\n",
       "  1367.96,1487.47 1367.96,1470.19 \n",
       "  \"/>\n",
       "<polyline clip-path=\"url(#clip4400)\" style=\"stroke:#000000; stroke-width:4; stroke-opacity:1; fill:none\" points=\"\n",
       "  1739.58,1487.47 1739.58,1470.19 \n",
       "  \"/>\n",
       "<polyline clip-path=\"url(#clip4400)\" style=\"stroke:#000000; stroke-width:4; stroke-opacity:1; fill:none\" points=\"\n",
       "  2111.2,1487.47 2111.2,1470.19 \n",
       "  \"/>\n",
       "<polyline clip-path=\"url(#clip4400)\" style=\"stroke:#000000; stroke-width:4; stroke-opacity:1; fill:none\" points=\"\n",
       "  383.159,1283.67 406.794,1283.67 \n",
       "  \"/>\n",
       "<polyline clip-path=\"url(#clip4400)\" style=\"stroke:#000000; stroke-width:4; stroke-opacity:1; fill:none\" points=\"\n",
       "  383.159,977.715 406.794,977.715 \n",
       "  \"/>\n",
       "<polyline clip-path=\"url(#clip4400)\" style=\"stroke:#000000; stroke-width:4; stroke-opacity:1; fill:none\" points=\"\n",
       "  383.159,671.761 406.794,671.761 \n",
       "  \"/>\n",
       "<polyline clip-path=\"url(#clip4400)\" style=\"stroke:#000000; stroke-width:4; stroke-opacity:1; fill:none\" points=\"\n",
       "  383.159,365.807 406.794,365.807 \n",
       "  \"/>\n",
       "<polyline clip-path=\"url(#clip4400)\" style=\"stroke:#000000; stroke-width:4; stroke-opacity:1; fill:none\" points=\"\n",
       "  383.159,59.853 406.794,59.853 \n",
       "  \"/>\n",
       "<g clip-path=\"url(#clip4400)\">\n",
       "<text style=\"fill:#000000; fill-opacity:1; font-family:Arial,Helvetica Neue,Helvetica,sans-serif; font-size:48px; text-anchor:middle;\" transform=\"rotate(0, 624.713, 1541.47)\" x=\"624.713\" y=\"1541.47\">0.996</text>\n",
       "</g>\n",
       "<g clip-path=\"url(#clip4400)\">\n",
       "<text style=\"fill:#000000; fill-opacity:1; font-family:Arial,Helvetica Neue,Helvetica,sans-serif; font-size:48px; text-anchor:middle;\" transform=\"rotate(0, 996.335, 1541.47)\" x=\"996.335\" y=\"1541.47\">0.998</text>\n",
       "</g>\n",
       "<g clip-path=\"url(#clip4400)\">\n",
       "<text style=\"fill:#000000; fill-opacity:1; font-family:Arial,Helvetica Neue,Helvetica,sans-serif; font-size:48px; text-anchor:middle;\" transform=\"rotate(0, 1367.96, 1541.47)\" x=\"1367.96\" y=\"1541.47\">1.000</text>\n",
       "</g>\n",
       "<g clip-path=\"url(#clip4400)\">\n",
       "<text style=\"fill:#000000; fill-opacity:1; font-family:Arial,Helvetica Neue,Helvetica,sans-serif; font-size:48px; text-anchor:middle;\" transform=\"rotate(0, 1739.58, 1541.47)\" x=\"1739.58\" y=\"1541.47\">1.002</text>\n",
       "</g>\n",
       "<g clip-path=\"url(#clip4400)\">\n",
       "<text style=\"fill:#000000; fill-opacity:1; font-family:Arial,Helvetica Neue,Helvetica,sans-serif; font-size:48px; text-anchor:middle;\" transform=\"rotate(0, 2111.2, 1541.47)\" x=\"2111.2\" y=\"1541.47\">1.004</text>\n",
       "</g>\n",
       "<g clip-path=\"url(#clip4400)\">\n",
       "<text style=\"fill:#000000; fill-opacity:1; font-family:Arial,Helvetica Neue,Helvetica,sans-serif; font-size:48px; text-anchor:end;\" transform=\"rotate(0, 359.159, 1301.17)\" x=\"359.159\" y=\"1301.17\">0</text>\n",
       "</g>\n",
       "<g clip-path=\"url(#clip4400)\">\n",
       "<text style=\"fill:#000000; fill-opacity:1; font-family:Arial,Helvetica Neue,Helvetica,sans-serif; font-size:48px; text-anchor:start;\" transform=\"rotate(0, 144.29, 1001.44)\" x=\"144.29\" y=\"1001.44\">5.0×10</text>\n",
       "</g>\n",
       "<g clip-path=\"url(#clip4400)\">\n",
       "<text style=\"fill:#000000; fill-opacity:1; font-family:Arial,Helvetica Neue,Helvetica,sans-serif; font-size:38px; text-anchor:start;\" transform=\"rotate(0, 292.831, 974.032)\" x=\"292.831\" y=\"974.032\">-</text>\n",
       "</g>\n",
       "<g clip-path=\"url(#clip4400)\">\n",
       "<text style=\"fill:#000000; fill-opacity:1; font-family:Arial,Helvetica Neue,Helvetica,sans-serif; font-size:38px; text-anchor:start;\" transform=\"rotate(0, 315.67, 974.032)\" x=\"315.67\" y=\"974.032\">15</text>\n",
       "</g>\n",
       "<g clip-path=\"url(#clip4400)\">\n",
       "<text style=\"fill:#000000; fill-opacity:1; font-family:Arial,Helvetica Neue,Helvetica,sans-serif; font-size:48px; text-anchor:start;\" transform=\"rotate(0, 144.29, 695.488)\" x=\"144.29\" y=\"695.488\">1.0×10</text>\n",
       "</g>\n",
       "<g clip-path=\"url(#clip4400)\">\n",
       "<text style=\"fill:#000000; fill-opacity:1; font-family:Arial,Helvetica Neue,Helvetica,sans-serif; font-size:38px; text-anchor:start;\" transform=\"rotate(0, 292.831, 668.078)\" x=\"292.831\" y=\"668.078\">-</text>\n",
       "</g>\n",
       "<g clip-path=\"url(#clip4400)\">\n",
       "<text style=\"fill:#000000; fill-opacity:1; font-family:Arial,Helvetica Neue,Helvetica,sans-serif; font-size:38px; text-anchor:start;\" transform=\"rotate(0, 315.67, 668.078)\" x=\"315.67\" y=\"668.078\">14</text>\n",
       "</g>\n",
       "<g clip-path=\"url(#clip4400)\">\n",
       "<text style=\"fill:#000000; fill-opacity:1; font-family:Arial,Helvetica Neue,Helvetica,sans-serif; font-size:48px; text-anchor:start;\" transform=\"rotate(0, 144.29, 389.534)\" x=\"144.29\" y=\"389.534\">1.5×10</text>\n",
       "</g>\n",
       "<g clip-path=\"url(#clip4400)\">\n",
       "<text style=\"fill:#000000; fill-opacity:1; font-family:Arial,Helvetica Neue,Helvetica,sans-serif; font-size:38px; text-anchor:start;\" transform=\"rotate(0, 292.831, 362.124)\" x=\"292.831\" y=\"362.124\">-</text>\n",
       "</g>\n",
       "<g clip-path=\"url(#clip4400)\">\n",
       "<text style=\"fill:#000000; fill-opacity:1; font-family:Arial,Helvetica Neue,Helvetica,sans-serif; font-size:38px; text-anchor:start;\" transform=\"rotate(0, 315.67, 362.124)\" x=\"315.67\" y=\"362.124\">14</text>\n",
       "</g>\n",
       "<g clip-path=\"url(#clip4400)\">\n",
       "<text style=\"fill:#000000; fill-opacity:1; font-family:Arial,Helvetica Neue,Helvetica,sans-serif; font-size:48px; text-anchor:start;\" transform=\"rotate(0, 144.29, 83.5806)\" x=\"144.29\" y=\"83.5806\">2.0×10</text>\n",
       "</g>\n",
       "<g clip-path=\"url(#clip4400)\">\n",
       "<text style=\"fill:#000000; fill-opacity:1; font-family:Arial,Helvetica Neue,Helvetica,sans-serif; font-size:38px; text-anchor:start;\" transform=\"rotate(0, 292.831, 56.1702)\" x=\"292.831\" y=\"56.1702\">-</text>\n",
       "</g>\n",
       "<g clip-path=\"url(#clip4400)\">\n",
       "<text style=\"fill:#000000; fill-opacity:1; font-family:Arial,Helvetica Neue,Helvetica,sans-serif; font-size:38px; text-anchor:start;\" transform=\"rotate(0, 315.67, 56.1702)\" x=\"315.67\" y=\"56.1702\">14</text>\n",
       "</g>\n",
       "<polyline clip-path=\"url(#clip4402)\" style=\"stroke:#009af9; stroke-width:4; stroke-opacity:1; fill:none\" stroke-dasharray=\"16, 10\" points=\"\n",
       "  438.902,359.747 457.671,305.399 476.44,631.489 495.209,631.489 513.977,848.882 532.746,794.534 551.515,903.23 570.284,903.23 589.052,957.579 607.821,848.882 \n",
       "  626.59,1066.28 645.359,1174.97 664.128,1229.32 682.896,903.23 701.665,1283.67 720.434,1066.28 739.203,1229.32 757.972,1174.97 776.74,1174.97 795.509,1446.71 \n",
       "  814.278,1174.97 833.047,1174.97 851.816,1338.02 870.584,1446.71 889.353,1392.37 908.122,1392.37 926.891,1283.67 945.66,1174.97 964.428,1229.32 983.197,1229.32 \n",
       "  1001.97,1283.67 1020.73,1392.37 1039.5,1338.02 1058.27,1283.67 1077.04,1174.97 1095.81,1446.71 1114.58,1392.37 1133.35,1283.67 1152.12,1338.02 1170.89,1338.02 \n",
       "  1189.65,1283.67 1208.42,1174.97 1227.19,1392.37 1245.96,1392.37 1264.73,1338.02 1283.5,1446.71 1302.27,1283.67 1321.04,1392.37 1339.8,1229.32 1358.57,1174.97 \n",
       "  1377.34,1283.67 1396.11,1283.67 1414.88,1446.71 1433.65,1174.97 1452.42,1229.32 1471.19,1066.28 1489.95,1392.37 1508.72,1283.67 1527.49,1283.67 1546.26,1174.97 \n",
       "  1565.03,1283.67 1583.8,1229.32 1602.57,1283.67 1621.34,1120.62 1640.1,1066.28 1658.87,1283.67 1677.64,957.579 1696.41,1283.67 1715.18,1120.62 1733.95,1283.67 \n",
       "  1752.72,1338.02 1771.49,1066.28 1790.26,1392.37 1809.02,1283.67 1827.79,1283.67 1846.56,957.579 1865.33,1066.28 1884.1,1120.62 1902.87,1174.97 1921.64,1338.02 \n",
       "  1940.41,1066.28 1959.17,1283.67 1977.94,1392.37 1996.71,1392.37 2015.48,1229.32 2034.25,848.882 2053.02,1120.62 2071.79,957.579 2090.56,957.579 2109.32,848.882 \n",
       "  2128.09,1174.97 2146.86,1174.97 2165.63,848.882 2184.4,903.23 2203.17,631.489 2221.94,631.489 2240.71,522.792 2259.48,305.399 2278.24,305.399 2297.01,88.0053 \n",
       "  \n",
       "  \"/>\n",
       "<polyline clip-path=\"url(#clip4402)\" style=\"stroke:#e26f46; stroke-width:4; stroke-opacity:1; fill:none\" points=\"\n",
       "  438.902,305.399 457.671,434.476 476.44,577.14 495.209,645.076 513.977,665.456 532.746,774.153 551.515,699.424 570.284,835.295 589.052,842.088 607.821,950.785 \n",
       "  626.59,1059.48 645.359,1032.31 664.128,1100.24 682.896,1147.8 701.665,1256.49 720.434,1154.59 739.203,1168.18 757.972,1086.66 776.74,1195.35 795.509,1256.49 \n",
       "  814.278,1229.32 833.047,1283.67 851.816,1229.32 870.584,1242.91 889.353,1208.94 908.122,1222.53 926.891,1276.87 945.66,1222.53 964.428,1338.02 983.197,1215.73 \n",
       "  1001.97,1270.08 1020.73,1365.19 1039.5,1236.11 1058.27,1256.49 1077.04,1174.97 1095.81,1215.73 1114.58,1215.73 1133.35,1351.6 1152.12,1242.91 1170.89,1324.43 \n",
       "  1189.65,1242.91 1208.42,1324.43 1227.19,1283.67 1245.96,1324.43 1264.73,1283.67 1283.5,1263.29 1302.27,1338.02 1321.04,1310.84 1339.8,1270.08 1358.57,1208.94 \n",
       "  1377.34,1297.26 1396.11,1208.94 1414.88,1338.02 1433.65,1351.6 1452.42,1446.71 1471.19,1283.67 1489.95,1208.94 1508.72,1297.26 1527.49,1405.95 1546.26,1249.7 \n",
       "  1565.03,1249.7 1583.8,1378.78 1602.57,1270.08 1621.34,1324.43 1640.1,1242.91 1658.87,1270.08 1677.64,1338.02 1696.41,1365.19 1715.18,1270.08 1733.95,1263.29 \n",
       "  1752.72,1283.67 1771.49,1405.95 1790.26,1256.49 1809.02,1215.73 1827.79,1270.08 1846.56,1310.84 1865.33,1338.02 1884.1,1242.91 1902.87,1283.67 1921.64,1229.32 \n",
       "  1940.41,1242.91 1959.17,1263.29 1977.94,1263.29 1996.71,1188.56 2015.48,1127.42 2034.25,1181.77 2053.02,1222.53 2071.79,1059.48 2090.56,1127.42 2109.32,1086.66 \n",
       "  2128.09,1005.13 2146.86,882.85 2165.63,910.024 2184.4,923.611 2203.17,821.708 2221.94,692.63 2240.71,617.902 2259.48,543.173 2278.24,495.618 2297.01,346.16 \n",
       "  \n",
       "  \"/>\n",
       "<polyline clip-path=\"url(#clip4402)\" style=\"stroke:#3da44d; stroke-width:4; stroke-opacity:1; fill:none\" stroke-dasharray=\"16, 8, 2, 8\" points=\"\n",
       "  438.902,327.563 457.671,437.756 476.44,537.157 495.209,626.627 513.977,706.978 532.746,778.967 551.515,843.306 570.284,900.66 589.052,951.649 607.821,996.851 \n",
       "  626.59,1036.8 645.359,1072.01 664.128,1102.93 682.896,1129.98 701.665,1153.58 720.434,1174.07 739.203,1191.8 757.972,1207.08 776.74,1220.17 795.509,1231.35 \n",
       "  814.278,1240.83 833.047,1248.84 851.816,1255.56 870.584,1261.16 889.353,1265.8 908.122,1269.61 926.891,1272.72 945.66,1275.24 964.428,1277.25 983.197,1278.84 \n",
       "  1001.97,1280.1 1020.73,1281.06 1039.5,1281.8 1058.27,1282.36 1077.04,1282.77 1095.81,1283.06 1114.58,1283.28 1133.35,1283.42 1152.12,1283.52 1170.89,1283.58 \n",
       "  1189.65,1283.62 1208.42,1283.64 1227.19,1283.66 1245.96,1283.66 1264.73,1283.67 1283.5,1283.67 1302.27,1283.67 1321.04,1283.67 1339.8,1283.67 1358.57,1283.67 \n",
       "  1377.34,1283.67 1396.11,1283.67 1414.88,1283.67 1433.65,1283.67 1452.42,1283.67 1471.19,1283.67 1489.95,1283.66 1508.72,1283.66 1527.49,1283.64 1546.26,1283.62 \n",
       "  1565.03,1283.58 1583.8,1283.52 1602.57,1283.42 1621.34,1283.28 1640.1,1283.06 1658.87,1282.77 1677.64,1282.36 1696.41,1281.8 1715.18,1281.06 1733.95,1280.1 \n",
       "  1752.72,1278.84 1771.49,1277.25 1790.26,1275.24 1809.02,1272.72 1827.79,1269.61 1846.56,1265.8 1865.33,1261.16 1884.1,1255.56 1902.87,1248.84 1921.64,1240.83 \n",
       "  1940.41,1231.35 1959.17,1220.17 1977.94,1207.08 1996.71,1191.8 2015.48,1174.07 2034.25,1153.58 2053.02,1129.98 2071.79,1102.93 2090.56,1072.01 2109.32,1036.8 \n",
       "  2128.09,996.851 2146.86,951.649 2165.63,900.66 2184.4,843.306 2203.17,778.967 2221.94,706.978 2240.71,626.627 2259.48,537.157 2278.24,437.756 2297.01,327.563 \n",
       "  \n",
       "  \"/>\n",
       "<path clip-path=\"url(#clip4400)\" d=\"\n",
       "M1829.35 372.684 L2280.76 372.684 L2280.76 130.764 L1829.35 130.764  Z\n",
       "  \" fill=\"#ffffff\" fill-rule=\"evenodd\" fill-opacity=\"1\"/>\n",
       "<polyline clip-path=\"url(#clip4400)\" style=\"stroke:#000000; stroke-width:4; stroke-opacity:1; fill:none\" points=\"\n",
       "  1829.35,372.684 2280.76,372.684 2280.76,130.764 1829.35,130.764 1829.35,372.684 \n",
       "  \"/>\n",
       "<polyline clip-path=\"url(#clip4400)\" style=\"stroke:#009af9; stroke-width:4; stroke-opacity:1; fill:none\" stroke-dasharray=\"16, 10\" points=\"\n",
       "  1853.35,191.244 1997.35,191.244 \n",
       "  \"/>\n",
       "<g clip-path=\"url(#clip4400)\">\n",
       "<text style=\"fill:#000000; fill-opacity:1; font-family:Arial,Helvetica Neue,Helvetica,sans-serif; font-size:48px; text-anchor:start;\" transform=\"rotate(0, 2021.35, 208.744)\" x=\"2021.35\" y=\"208.744\">expanded</text>\n",
       "</g>\n",
       "<polyline clip-path=\"url(#clip4400)\" style=\"stroke:#e26f46; stroke-width:4; stroke-opacity:1; fill:none\" points=\"\n",
       "  1853.35,251.724 1997.35,251.724 \n",
       "  \"/>\n",
       "<g clip-path=\"url(#clip4400)\">\n",
       "<text style=\"fill:#000000; fill-opacity:1; font-family:Arial,Helvetica Neue,Helvetica,sans-serif; font-size:48px; text-anchor:start;\" transform=\"rotate(0, 2021.35, 269.224)\" x=\"2021.35\" y=\"269.224\">Horner</text>\n",
       "</g>\n",
       "<polyline clip-path=\"url(#clip4400)\" style=\"stroke:#3da44d; stroke-width:4; stroke-opacity:1; fill:none\" stroke-dasharray=\"16, 8, 2, 8\" points=\"\n",
       "  1853.35,312.204 1997.35,312.204 \n",
       "  \"/>\n",
       "<g clip-path=\"url(#clip4400)\">\n",
       "<text style=\"fill:#000000; fill-opacity:1; font-family:Arial,Helvetica Neue,Helvetica,sans-serif; font-size:48px; text-anchor:start;\" transform=\"rotate(0, 2021.35, 329.704)\" x=\"2021.35\" y=\"329.704\">factored</text>\n",
       "</g>\n",
       "</svg>\n"
      ],
      "image/svg+xml": [
       "<?xml version=\"1.0\" encoding=\"utf-8\"?>\n",
       "<svg xmlns=\"http://www.w3.org/2000/svg\" xmlns:xlink=\"http://www.w3.org/1999/xlink\" width=\"600\" height=\"400\" viewBox=\"0 0 2400 1600\">\n",
       "<defs>\n",
       "  <clipPath id=\"clip4100\">\n",
       "    <rect x=\"0\" y=\"0\" width=\"2400\" height=\"1600\"/>\n",
       "  </clipPath>\n",
       "</defs>\n",
       "<path clip-path=\"url(#clip4100)\" d=\"\n",
       "M0 1600 L2400 1600 L2400 0 L0 0  Z\n",
       "  \" fill=\"#ffffff\" fill-rule=\"evenodd\" fill-opacity=\"1\"/>\n",
       "<defs>\n",
       "  <clipPath id=\"clip4101\">\n",
       "    <rect x=\"480\" y=\"0\" width=\"1681\" height=\"1600\"/>\n",
       "  </clipPath>\n",
       "</defs>\n",
       "<path clip-path=\"url(#clip4100)\" d=\"\n",
       "M383.159 1487.47 L2352.76 1487.47 L2352.76 47.2441 L383.159 47.2441  Z\n",
       "  \" fill=\"#ffffff\" fill-rule=\"evenodd\" fill-opacity=\"1\"/>\n",
       "<defs>\n",
       "  <clipPath id=\"clip4102\">\n",
       "    <rect x=\"383\" y=\"47\" width=\"1971\" height=\"1441\"/>\n",
       "  </clipPath>\n",
       "</defs>\n",
       "<polyline clip-path=\"url(#clip4102)\" style=\"stroke:#000000; stroke-width:2; stroke-opacity:0.1; fill:none\" points=\"\n",
       "  624.713,1487.47 624.713,47.2441 \n",
       "  \"/>\n",
       "<polyline clip-path=\"url(#clip4102)\" style=\"stroke:#000000; stroke-width:2; stroke-opacity:0.1; fill:none\" points=\"\n",
       "  996.335,1487.47 996.335,47.2441 \n",
       "  \"/>\n",
       "<polyline clip-path=\"url(#clip4102)\" style=\"stroke:#000000; stroke-width:2; stroke-opacity:0.1; fill:none\" points=\"\n",
       "  1367.96,1487.47 1367.96,47.2441 \n",
       "  \"/>\n",
       "<polyline clip-path=\"url(#clip4102)\" style=\"stroke:#000000; stroke-width:2; stroke-opacity:0.1; fill:none\" points=\"\n",
       "  1739.58,1487.47 1739.58,47.2441 \n",
       "  \"/>\n",
       "<polyline clip-path=\"url(#clip4102)\" style=\"stroke:#000000; stroke-width:2; stroke-opacity:0.1; fill:none\" points=\"\n",
       "  2111.2,1487.47 2111.2,47.2441 \n",
       "  \"/>\n",
       "<polyline clip-path=\"url(#clip4102)\" style=\"stroke:#000000; stroke-width:2; stroke-opacity:0.1; fill:none\" points=\"\n",
       "  383.159,1283.67 2352.76,1283.67 \n",
       "  \"/>\n",
       "<polyline clip-path=\"url(#clip4102)\" style=\"stroke:#000000; stroke-width:2; stroke-opacity:0.1; fill:none\" points=\"\n",
       "  383.159,977.715 2352.76,977.715 \n",
       "  \"/>\n",
       "<polyline clip-path=\"url(#clip4102)\" style=\"stroke:#000000; stroke-width:2; stroke-opacity:0.1; fill:none\" points=\"\n",
       "  383.159,671.761 2352.76,671.761 \n",
       "  \"/>\n",
       "<polyline clip-path=\"url(#clip4102)\" style=\"stroke:#000000; stroke-width:2; stroke-opacity:0.1; fill:none\" points=\"\n",
       "  383.159,365.807 2352.76,365.807 \n",
       "  \"/>\n",
       "<polyline clip-path=\"url(#clip4102)\" style=\"stroke:#000000; stroke-width:2; stroke-opacity:0.1; fill:none\" points=\"\n",
       "  383.159,59.853 2352.76,59.853 \n",
       "  \"/>\n",
       "<polyline clip-path=\"url(#clip4100)\" style=\"stroke:#000000; stroke-width:4; stroke-opacity:1; fill:none\" points=\"\n",
       "  383.159,1487.47 2352.76,1487.47 \n",
       "  \"/>\n",
       "<polyline clip-path=\"url(#clip4100)\" style=\"stroke:#000000; stroke-width:4; stroke-opacity:1; fill:none\" points=\"\n",
       "  383.159,1487.47 383.159,47.2441 \n",
       "  \"/>\n",
       "<polyline clip-path=\"url(#clip4100)\" style=\"stroke:#000000; stroke-width:4; stroke-opacity:1; fill:none\" points=\"\n",
       "  624.713,1487.47 624.713,1470.19 \n",
       "  \"/>\n",
       "<polyline clip-path=\"url(#clip4100)\" style=\"stroke:#000000; stroke-width:4; stroke-opacity:1; fill:none\" points=\"\n",
       "  996.335,1487.47 996.335,1470.19 \n",
       "  \"/>\n",
       "<polyline clip-path=\"url(#clip4100)\" style=\"stroke:#000000; stroke-width:4; stroke-opacity:1; fill:none\" points=\"\n",
       "  1367.96,1487.47 1367.96,1470.19 \n",
       "  \"/>\n",
       "<polyline clip-path=\"url(#clip4100)\" style=\"stroke:#000000; stroke-width:4; stroke-opacity:1; fill:none\" points=\"\n",
       "  1739.58,1487.47 1739.58,1470.19 \n",
       "  \"/>\n",
       "<polyline clip-path=\"url(#clip4100)\" style=\"stroke:#000000; stroke-width:4; stroke-opacity:1; fill:none\" points=\"\n",
       "  2111.2,1487.47 2111.2,1470.19 \n",
       "  \"/>\n",
       "<polyline clip-path=\"url(#clip4100)\" style=\"stroke:#000000; stroke-width:4; stroke-opacity:1; fill:none\" points=\"\n",
       "  383.159,1283.67 406.794,1283.67 \n",
       "  \"/>\n",
       "<polyline clip-path=\"url(#clip4100)\" style=\"stroke:#000000; stroke-width:4; stroke-opacity:1; fill:none\" points=\"\n",
       "  383.159,977.715 406.794,977.715 \n",
       "  \"/>\n",
       "<polyline clip-path=\"url(#clip4100)\" style=\"stroke:#000000; stroke-width:4; stroke-opacity:1; fill:none\" points=\"\n",
       "  383.159,671.761 406.794,671.761 \n",
       "  \"/>\n",
       "<polyline clip-path=\"url(#clip4100)\" style=\"stroke:#000000; stroke-width:4; stroke-opacity:1; fill:none\" points=\"\n",
       "  383.159,365.807 406.794,365.807 \n",
       "  \"/>\n",
       "<polyline clip-path=\"url(#clip4100)\" style=\"stroke:#000000; stroke-width:4; stroke-opacity:1; fill:none\" points=\"\n",
       "  383.159,59.853 406.794,59.853 \n",
       "  \"/>\n",
       "<g clip-path=\"url(#clip4100)\">\n",
       "<text style=\"fill:#000000; fill-opacity:1; font-family:Arial,Helvetica Neue,Helvetica,sans-serif; font-size:48px; text-anchor:middle;\" transform=\"rotate(0, 624.713, 1541.47)\" x=\"624.713\" y=\"1541.47\">0.996</text>\n",
       "</g>\n",
       "<g clip-path=\"url(#clip4100)\">\n",
       "<text style=\"fill:#000000; fill-opacity:1; font-family:Arial,Helvetica Neue,Helvetica,sans-serif; font-size:48px; text-anchor:middle;\" transform=\"rotate(0, 996.335, 1541.47)\" x=\"996.335\" y=\"1541.47\">0.998</text>\n",
       "</g>\n",
       "<g clip-path=\"url(#clip4100)\">\n",
       "<text style=\"fill:#000000; fill-opacity:1; font-family:Arial,Helvetica Neue,Helvetica,sans-serif; font-size:48px; text-anchor:middle;\" transform=\"rotate(0, 1367.96, 1541.47)\" x=\"1367.96\" y=\"1541.47\">1.000</text>\n",
       "</g>\n",
       "<g clip-path=\"url(#clip4100)\">\n",
       "<text style=\"fill:#000000; fill-opacity:1; font-family:Arial,Helvetica Neue,Helvetica,sans-serif; font-size:48px; text-anchor:middle;\" transform=\"rotate(0, 1739.58, 1541.47)\" x=\"1739.58\" y=\"1541.47\">1.002</text>\n",
       "</g>\n",
       "<g clip-path=\"url(#clip4100)\">\n",
       "<text style=\"fill:#000000; fill-opacity:1; font-family:Arial,Helvetica Neue,Helvetica,sans-serif; font-size:48px; text-anchor:middle;\" transform=\"rotate(0, 2111.2, 1541.47)\" x=\"2111.2\" y=\"1541.47\">1.004</text>\n",
       "</g>\n",
       "<g clip-path=\"url(#clip4100)\">\n",
       "<text style=\"fill:#000000; fill-opacity:1; font-family:Arial,Helvetica Neue,Helvetica,sans-serif; font-size:48px; text-anchor:end;\" transform=\"rotate(0, 359.159, 1301.17)\" x=\"359.159\" y=\"1301.17\">0</text>\n",
       "</g>\n",
       "<g clip-path=\"url(#clip4100)\">\n",
       "<text style=\"fill:#000000; fill-opacity:1; font-family:Arial,Helvetica Neue,Helvetica,sans-serif; font-size:48px; text-anchor:start;\" transform=\"rotate(0, 144.29, 1001.44)\" x=\"144.29\" y=\"1001.44\">5.0×10</text>\n",
       "</g>\n",
       "<g clip-path=\"url(#clip4100)\">\n",
       "<text style=\"fill:#000000; fill-opacity:1; font-family:Arial,Helvetica Neue,Helvetica,sans-serif; font-size:38px; text-anchor:start;\" transform=\"rotate(0, 292.831, 974.032)\" x=\"292.831\" y=\"974.032\">-</text>\n",
       "</g>\n",
       "<g clip-path=\"url(#clip4100)\">\n",
       "<text style=\"fill:#000000; fill-opacity:1; font-family:Arial,Helvetica Neue,Helvetica,sans-serif; font-size:38px; text-anchor:start;\" transform=\"rotate(0, 315.67, 974.032)\" x=\"315.67\" y=\"974.032\">15</text>\n",
       "</g>\n",
       "<g clip-path=\"url(#clip4100)\">\n",
       "<text style=\"fill:#000000; fill-opacity:1; font-family:Arial,Helvetica Neue,Helvetica,sans-serif; font-size:48px; text-anchor:start;\" transform=\"rotate(0, 144.29, 695.488)\" x=\"144.29\" y=\"695.488\">1.0×10</text>\n",
       "</g>\n",
       "<g clip-path=\"url(#clip4100)\">\n",
       "<text style=\"fill:#000000; fill-opacity:1; font-family:Arial,Helvetica Neue,Helvetica,sans-serif; font-size:38px; text-anchor:start;\" transform=\"rotate(0, 292.831, 668.078)\" x=\"292.831\" y=\"668.078\">-</text>\n",
       "</g>\n",
       "<g clip-path=\"url(#clip4100)\">\n",
       "<text style=\"fill:#000000; fill-opacity:1; font-family:Arial,Helvetica Neue,Helvetica,sans-serif; font-size:38px; text-anchor:start;\" transform=\"rotate(0, 315.67, 668.078)\" x=\"315.67\" y=\"668.078\">14</text>\n",
       "</g>\n",
       "<g clip-path=\"url(#clip4100)\">\n",
       "<text style=\"fill:#000000; fill-opacity:1; font-family:Arial,Helvetica Neue,Helvetica,sans-serif; font-size:48px; text-anchor:start;\" transform=\"rotate(0, 144.29, 389.534)\" x=\"144.29\" y=\"389.534\">1.5×10</text>\n",
       "</g>\n",
       "<g clip-path=\"url(#clip4100)\">\n",
       "<text style=\"fill:#000000; fill-opacity:1; font-family:Arial,Helvetica Neue,Helvetica,sans-serif; font-size:38px; text-anchor:start;\" transform=\"rotate(0, 292.831, 362.124)\" x=\"292.831\" y=\"362.124\">-</text>\n",
       "</g>\n",
       "<g clip-path=\"url(#clip4100)\">\n",
       "<text style=\"fill:#000000; fill-opacity:1; font-family:Arial,Helvetica Neue,Helvetica,sans-serif; font-size:38px; text-anchor:start;\" transform=\"rotate(0, 315.67, 362.124)\" x=\"315.67\" y=\"362.124\">14</text>\n",
       "</g>\n",
       "<g clip-path=\"url(#clip4100)\">\n",
       "<text style=\"fill:#000000; fill-opacity:1; font-family:Arial,Helvetica Neue,Helvetica,sans-serif; font-size:48px; text-anchor:start;\" transform=\"rotate(0, 144.29, 83.5806)\" x=\"144.29\" y=\"83.5806\">2.0×10</text>\n",
       "</g>\n",
       "<g clip-path=\"url(#clip4100)\">\n",
       "<text style=\"fill:#000000; fill-opacity:1; font-family:Arial,Helvetica Neue,Helvetica,sans-serif; font-size:38px; text-anchor:start;\" transform=\"rotate(0, 292.831, 56.1702)\" x=\"292.831\" y=\"56.1702\">-</text>\n",
       "</g>\n",
       "<g clip-path=\"url(#clip4100)\">\n",
       "<text style=\"fill:#000000; fill-opacity:1; font-family:Arial,Helvetica Neue,Helvetica,sans-serif; font-size:38px; text-anchor:start;\" transform=\"rotate(0, 315.67, 56.1702)\" x=\"315.67\" y=\"56.1702\">14</text>\n",
       "</g>\n",
       "<polyline clip-path=\"url(#clip4102)\" style=\"stroke:#009af9; stroke-width:4; stroke-opacity:1; fill:none\" stroke-dasharray=\"16, 10\" points=\"\n",
       "  438.902,359.747 457.671,305.399 476.44,631.489 495.209,631.489 513.977,848.882 532.746,794.534 551.515,903.23 570.284,903.23 589.052,957.579 607.821,848.882 \n",
       "  626.59,1066.28 645.359,1174.97 664.128,1229.32 682.896,903.23 701.665,1283.67 720.434,1066.28 739.203,1229.32 757.972,1174.97 776.74,1174.97 795.509,1446.71 \n",
       "  814.278,1174.97 833.047,1174.97 851.816,1338.02 870.584,1446.71 889.353,1392.37 908.122,1392.37 926.891,1283.67 945.66,1174.97 964.428,1229.32 983.197,1229.32 \n",
       "  1001.97,1283.67 1020.73,1392.37 1039.5,1338.02 1058.27,1283.67 1077.04,1174.97 1095.81,1446.71 1114.58,1392.37 1133.35,1283.67 1152.12,1338.02 1170.89,1338.02 \n",
       "  1189.65,1283.67 1208.42,1174.97 1227.19,1392.37 1245.96,1392.37 1264.73,1338.02 1283.5,1446.71 1302.27,1283.67 1321.04,1392.37 1339.8,1229.32 1358.57,1174.97 \n",
       "  1377.34,1283.67 1396.11,1283.67 1414.88,1446.71 1433.65,1174.97 1452.42,1229.32 1471.19,1066.28 1489.95,1392.37 1508.72,1283.67 1527.49,1283.67 1546.26,1174.97 \n",
       "  1565.03,1283.67 1583.8,1229.32 1602.57,1283.67 1621.34,1120.62 1640.1,1066.28 1658.87,1283.67 1677.64,957.579 1696.41,1283.67 1715.18,1120.62 1733.95,1283.67 \n",
       "  1752.72,1338.02 1771.49,1066.28 1790.26,1392.37 1809.02,1283.67 1827.79,1283.67 1846.56,957.579 1865.33,1066.28 1884.1,1120.62 1902.87,1174.97 1921.64,1338.02 \n",
       "  1940.41,1066.28 1959.17,1283.67 1977.94,1392.37 1996.71,1392.37 2015.48,1229.32 2034.25,848.882 2053.02,1120.62 2071.79,957.579 2090.56,957.579 2109.32,848.882 \n",
       "  2128.09,1174.97 2146.86,1174.97 2165.63,848.882 2184.4,903.23 2203.17,631.489 2221.94,631.489 2240.71,522.792 2259.48,305.399 2278.24,305.399 2297.01,88.0053 \n",
       "  \n",
       "  \"/>\n",
       "<polyline clip-path=\"url(#clip4102)\" style=\"stroke:#e26f46; stroke-width:4; stroke-opacity:1; fill:none\" points=\"\n",
       "  438.902,305.399 457.671,434.476 476.44,577.14 495.209,645.076 513.977,665.456 532.746,774.153 551.515,699.424 570.284,835.295 589.052,842.088 607.821,950.785 \n",
       "  626.59,1059.48 645.359,1032.31 664.128,1100.24 682.896,1147.8 701.665,1256.49 720.434,1154.59 739.203,1168.18 757.972,1086.66 776.74,1195.35 795.509,1256.49 \n",
       "  814.278,1229.32 833.047,1283.67 851.816,1229.32 870.584,1242.91 889.353,1208.94 908.122,1222.53 926.891,1276.87 945.66,1222.53 964.428,1338.02 983.197,1215.73 \n",
       "  1001.97,1270.08 1020.73,1365.19 1039.5,1236.11 1058.27,1256.49 1077.04,1174.97 1095.81,1215.73 1114.58,1215.73 1133.35,1351.6 1152.12,1242.91 1170.89,1324.43 \n",
       "  1189.65,1242.91 1208.42,1324.43 1227.19,1283.67 1245.96,1324.43 1264.73,1283.67 1283.5,1263.29 1302.27,1338.02 1321.04,1310.84 1339.8,1270.08 1358.57,1208.94 \n",
       "  1377.34,1297.26 1396.11,1208.94 1414.88,1338.02 1433.65,1351.6 1452.42,1446.71 1471.19,1283.67 1489.95,1208.94 1508.72,1297.26 1527.49,1405.95 1546.26,1249.7 \n",
       "  1565.03,1249.7 1583.8,1378.78 1602.57,1270.08 1621.34,1324.43 1640.1,1242.91 1658.87,1270.08 1677.64,1338.02 1696.41,1365.19 1715.18,1270.08 1733.95,1263.29 \n",
       "  1752.72,1283.67 1771.49,1405.95 1790.26,1256.49 1809.02,1215.73 1827.79,1270.08 1846.56,1310.84 1865.33,1338.02 1884.1,1242.91 1902.87,1283.67 1921.64,1229.32 \n",
       "  1940.41,1242.91 1959.17,1263.29 1977.94,1263.29 1996.71,1188.56 2015.48,1127.42 2034.25,1181.77 2053.02,1222.53 2071.79,1059.48 2090.56,1127.42 2109.32,1086.66 \n",
       "  2128.09,1005.13 2146.86,882.85 2165.63,910.024 2184.4,923.611 2203.17,821.708 2221.94,692.63 2240.71,617.902 2259.48,543.173 2278.24,495.618 2297.01,346.16 \n",
       "  \n",
       "  \"/>\n",
       "<polyline clip-path=\"url(#clip4102)\" style=\"stroke:#3da44d; stroke-width:4; stroke-opacity:1; fill:none\" stroke-dasharray=\"16, 8, 2, 8\" points=\"\n",
       "  438.902,327.563 457.671,437.756 476.44,537.157 495.209,626.627 513.977,706.978 532.746,778.967 551.515,843.306 570.284,900.66 589.052,951.649 607.821,996.851 \n",
       "  626.59,1036.8 645.359,1072.01 664.128,1102.93 682.896,1129.98 701.665,1153.58 720.434,1174.07 739.203,1191.8 757.972,1207.08 776.74,1220.17 795.509,1231.35 \n",
       "  814.278,1240.83 833.047,1248.84 851.816,1255.56 870.584,1261.16 889.353,1265.8 908.122,1269.61 926.891,1272.72 945.66,1275.24 964.428,1277.25 983.197,1278.84 \n",
       "  1001.97,1280.1 1020.73,1281.06 1039.5,1281.8 1058.27,1282.36 1077.04,1282.77 1095.81,1283.06 1114.58,1283.28 1133.35,1283.42 1152.12,1283.52 1170.89,1283.58 \n",
       "  1189.65,1283.62 1208.42,1283.64 1227.19,1283.66 1245.96,1283.66 1264.73,1283.67 1283.5,1283.67 1302.27,1283.67 1321.04,1283.67 1339.8,1283.67 1358.57,1283.67 \n",
       "  1377.34,1283.67 1396.11,1283.67 1414.88,1283.67 1433.65,1283.67 1452.42,1283.67 1471.19,1283.67 1489.95,1283.66 1508.72,1283.66 1527.49,1283.64 1546.26,1283.62 \n",
       "  1565.03,1283.58 1583.8,1283.52 1602.57,1283.42 1621.34,1283.28 1640.1,1283.06 1658.87,1282.77 1677.64,1282.36 1696.41,1281.8 1715.18,1281.06 1733.95,1280.1 \n",
       "  1752.72,1278.84 1771.49,1277.25 1790.26,1275.24 1809.02,1272.72 1827.79,1269.61 1846.56,1265.8 1865.33,1261.16 1884.1,1255.56 1902.87,1248.84 1921.64,1240.83 \n",
       "  1940.41,1231.35 1959.17,1220.17 1977.94,1207.08 1996.71,1191.8 2015.48,1174.07 2034.25,1153.58 2053.02,1129.98 2071.79,1102.93 2090.56,1072.01 2109.32,1036.8 \n",
       "  2128.09,996.851 2146.86,951.649 2165.63,900.66 2184.4,843.306 2203.17,778.967 2221.94,706.978 2240.71,626.627 2259.48,537.157 2278.24,437.756 2297.01,327.563 \n",
       "  \n",
       "  \"/>\n",
       "<path clip-path=\"url(#clip4100)\" d=\"\n",
       "M1829.35 372.684 L2280.76 372.684 L2280.76 130.764 L1829.35 130.764  Z\n",
       "  \" fill=\"#ffffff\" fill-rule=\"evenodd\" fill-opacity=\"1\"/>\n",
       "<polyline clip-path=\"url(#clip4100)\" style=\"stroke:#000000; stroke-width:4; stroke-opacity:1; fill:none\" points=\"\n",
       "  1829.35,372.684 2280.76,372.684 2280.76,130.764 1829.35,130.764 1829.35,372.684 \n",
       "  \"/>\n",
       "<polyline clip-path=\"url(#clip4100)\" style=\"stroke:#009af9; stroke-width:4; stroke-opacity:1; fill:none\" stroke-dasharray=\"16, 10\" points=\"\n",
       "  1853.35,191.244 1997.35,191.244 \n",
       "  \"/>\n",
       "<g clip-path=\"url(#clip4100)\">\n",
       "<text style=\"fill:#000000; fill-opacity:1; font-family:Arial,Helvetica Neue,Helvetica,sans-serif; font-size:48px; text-anchor:start;\" transform=\"rotate(0, 2021.35, 208.744)\" x=\"2021.35\" y=\"208.744\">expanded</text>\n",
       "</g>\n",
       "<polyline clip-path=\"url(#clip4100)\" style=\"stroke:#e26f46; stroke-width:4; stroke-opacity:1; fill:none\" points=\"\n",
       "  1853.35,251.724 1997.35,251.724 \n",
       "  \"/>\n",
       "<g clip-path=\"url(#clip4100)\">\n",
       "<text style=\"fill:#000000; fill-opacity:1; font-family:Arial,Helvetica Neue,Helvetica,sans-serif; font-size:48px; text-anchor:start;\" transform=\"rotate(0, 2021.35, 269.224)\" x=\"2021.35\" y=\"269.224\">Horner</text>\n",
       "</g>\n",
       "<polyline clip-path=\"url(#clip4100)\" style=\"stroke:#3da44d; stroke-width:4; stroke-opacity:1; fill:none\" stroke-dasharray=\"16, 8, 2, 8\" points=\"\n",
       "  1853.35,312.204 1997.35,312.204 \n",
       "  \"/>\n",
       "<g clip-path=\"url(#clip4100)\">\n",
       "<text style=\"fill:#000000; fill-opacity:1; font-family:Arial,Helvetica Neue,Helvetica,sans-serif; font-size:48px; text-anchor:start;\" transform=\"rotate(0, 2021.35, 329.704)\" x=\"2021.35\" y=\"329.704\">factored</text>\n",
       "</g>\n",
       "</svg>\n"
      ]
     },
     "metadata": {},
     "execution_count": 21
    }
   ],
   "cell_type": "code",
   "source": [
    "using Plots\n",
    "\n",
    "xs = range(0.995, 1.005, length = 100)\n",
    "\n",
    "# Expanded\n",
    "p1(t) = t^6 - 6t^5 + 15t^4 - 20t^3 + 15t^2 - 6t + 1\n",
    "plot(xs, p1.(xs), ls = :dash, label = \"expanded\")\n",
    "\n",
    "# Horner\n",
    "p2(t) = (((((t - 6) * t + 15) * t - 20) * t + 15) * t - 6) * t + 1\n",
    "plot!(xs, p2.(xs), ls = :solid, label = \"Horner\")\n",
    "\n",
    "# factored\n",
    "p3(t) = (t - 1)^6\n",
    "plot!(xs, p3.(xs), ls = :dashdot, label = \"factored\")"
   ],
   "metadata": {},
   "execution_count": 21
  },
  {
   "outputs": [],
   "cell_type": "markdown",
   "source": [
    "## 1.7 Computer Lab 1\n",
    "**Example**. Find the smallest $x \\in (1, 2)$ such that $x \\otimes \\frac{1}{x} \\neq 1$."
   ],
   "metadata": {}
  },
  {
   "outputs": [
    {
     "name": "stdout",
     "output_type": "stream",
     "text": [
      "x = 1.00000005722899710\n",
      "-0-01111111111-0000000000000000000000001111010111001011111100101010-\n"
     ]
    }
   ],
   "cell_type": "code",
   "source": [
    "for i in 1:1000000000\n",
    "    x = nextfloat(1.0, i)\n",
    "    y = 1/x\n",
    "    if x * y != 1.0\n",
    "        @printf(\"x = %0.17f\\n\", x)\n",
    "        print_float_format(x)\n",
    "        break\n",
    "    end\n",
    "end"
   ],
   "metadata": {},
   "execution_count": 22
  },
  {
   "outputs": [],
   "cell_type": "markdown",
   "source": [
    "**Example**. Evaluate $f(x, y) = 9x^4 - y^4 +2y^2$ for $(x, y) = (40545, 70226)$."
   ],
   "metadata": {}
  },
  {
   "outputs": [
    {
     "name": "stdout",
     "output_type": "stream",
     "text": [
      "f(x, y) = 1\n",
      "f(x, y) = NaN\n",
      "f(x, y) = 9.863382e9\n"
     ]
    }
   ],
   "cell_type": "code",
   "source": [
    "prob4(x, y) = 9x^4 - y^4 + 2y^2\n",
    "\n",
    "x, y = 40545, 70226\n",
    "\n",
    "for T in [Int64, Float16, Float32]\n",
    "    println(\"f(x, y) = \", prob4(T(x), T(y)))\n",
    "end"
   ],
   "metadata": {},
   "execution_count": 23
  },
  {
   "outputs": [],
   "cell_type": "markdown",
   "source": [
    "Correct answer is (3x^2 - x^2)(3x^y + x^2) + 2y^2 = -1 * 9863382151 + 9863382152 = 1"
   ],
   "metadata": {}
  },
  {
   "outputs": [],
   "cell_type": "markdown",
   "source": [
    "---\n",
    "\n",
    "*This notebook was generated using [Literate.jl](https://github.com/fredrikekre/Literate.jl).*"
   ],
   "metadata": {}
  }
 ],
 "nbformat_minor": 3,
 "metadata": {
  "language_info": {
   "file_extension": ".jl",
   "mimetype": "application/julia",
   "name": "julia",
   "version": "1.3.0"
  },
  "kernelspec": {
   "name": "julia-1.3",
   "display_name": "Julia 1.3.0",
   "language": "julia"
  }
 },
 "nbformat": 4
}
