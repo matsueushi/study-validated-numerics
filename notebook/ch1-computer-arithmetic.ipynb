{
 "cells": [
  {
   "outputs": [],
   "cell_type": "markdown",
   "source": [
    "# Chapter 1, Computer Arithmetic"
   ],
   "metadata": {}
  },
  {
   "outputs": [],
   "cell_type": "markdown",
   "source": [
    "## 1.1 Positional Systems\n",
    "$\\beta \\in \\mathbb{Z}, \\beta \\ge 2$ : Integer base\n",
    "\n",
    "For $\\sigma \\in \\{-1, 1\\}$, $b_i \\in \\{ 0, 1, \\ldots, \\beta-1\\}$,\n",
    "\n",
    "\\begin{align*}\n",
    "(-1)^\\sigma (b_n b_{n-1} \\cdots b_0 . b_{-1} b_{-2} \\cdots)_\\beta\n",
    "&:= (-1)^\\sigma \\sum_{i=-\\infty}^n b_i \\beta^i  \\\\\n",
    "&= (-1)^\\sigma (b_n \\beta^n + b_{n-1} \\beta^{n-1} + \\cdots + b_0 + b_{-1} \\beta^{-1} + b_{-2} \\beta^{-2} + \\cdots)\n",
    "\\end{align*}\n",
    "\n",
    "Condition (a): $0 \\le b_i \\le \\beta_i - 1$ for all $i$\n",
    "\n",
    "Condition (b): $0 \\le b_i \\le \\beta_i - 2$ for infinitely many $i$"
   ],
   "metadata": {}
  },
  {
   "outputs": [],
   "cell_type": "markdown",
   "source": [
    "Prop. $\\forall x \\in \\mathbb{R}, x \\neq 0, x$ has a unique representation above."
   ],
   "metadata": {}
  },
  {
   "outputs": [],
   "cell_type": "markdown",
   "source": [
    "## 1.2 Floating Point Numbers"
   ],
   "metadata": {}
  },
  {
   "outputs": [
    {
     "name": "stdout",
     "output_type": "stream",
     "text": [
      "Normalized range of Float16 is [-6.55e4, 6.55e4]\n",
      "Normalized range of Float32 is [-3.4028235e38, 3.4028235e38]\n",
      "Normalized range of Float64 is [-1.7976931348623157e308, 1.7976931348623157e308]\n"
     ]
    }
   ],
   "cell_type": "code",
   "source": [
    "# Normalized range\n",
    "for T in [Float16, Float32, Float64]\n",
    "    println(\"Normalized range of $(T) is [\", nextfloat(T(-Inf)), \", \", floatmax(T), \"]\")\n",
    "end"
   ],
   "metadata": {},
   "execution_count": 1
  },
  {
   "outputs": [
    {
     "name": "stdout",
     "output_type": "stream",
     "text": [
      "x(0) = 0.10000000000000001\n",
      "x(1) = 0.30000000000000004\n",
      "x(2) = 0.90000000000000013\n",
      "x(3) = 0.70000000000000018\n",
      "x(4) = 0.10000000000000053\n",
      "x(5) = 0.30000000000000160\n",
      "x(6) = 0.90000000000000480\n",
      "x(7) = 0.70000000000001439\n",
      "x(8) = 0.10000000000004317\n",
      "x(9) = 0.30000000000012950\n",
      "x(10) = 0.90000000000038849\n",
      "x(11) = 0.70000000000116547\n",
      "x(12) = 0.10000000000349640\n",
      "x(13) = 0.30000000001048921\n",
      "x(14) = 0.90000000003146763\n",
      "x(15) = 0.70000000009440289\n",
      "x(16) = 0.10000000028320866\n",
      "x(17) = 0.30000000084962597\n",
      "x(18) = 0.90000000254887791\n",
      "x(19) = 0.70000000764663373\n",
      "x(20) = 0.10000002293990118\n",
      "x(21) = 0.30000006881970354\n",
      "x(22) = 0.90000020645911061\n",
      "x(23) = 0.70000061937733182\n",
      "x(24) = 0.10000185813199547\n",
      "x(25) = 0.30000557439598641\n",
      "x(26) = 0.90001672318795922\n",
      "x(27) = 0.70005016956387767\n",
      "x(28) = 0.10015050869163300\n",
      "x(29) = 0.30045152607489900\n",
      "x(30) = 0.90135457822469700\n",
      "x(31) = 0.70406373467409100\n",
      "x(32) = 0.11219120402227301\n",
      "x(33) = 0.33657361206681902\n",
      "x(34) = 0.00972083620045705\n",
      "x(35) = 0.02916250860137115\n",
      "x(36) = 0.08748752580411345\n",
      "x(37) = 0.26246257741234036\n",
      "x(38) = 0.78738773223702108\n",
      "x(39) = 0.36216319671106323\n",
      "x(40) = 0.08648959013318969\n",
      "x(41) = 0.25946877039956906\n",
      "x(42) = 0.77840631119870718\n",
      "x(43) = 0.33521893359612154\n",
      "x(44) = 0.00565680078836461\n",
      "x(45) = 0.01697040236509384\n",
      "x(46) = 0.05091120709528152\n",
      "x(47) = 0.15273362128584456\n",
      "x(48) = 0.45820086385753367\n",
      "x(49) = 0.37460259157260101\n",
      "x(50) = 0.12380777471780302\n",
      "x(51) = 0.37142332415340906\n",
      "x(52) = 0.11426997246022719\n",
      "x(53) = 0.34280991738068156\n"
     ]
    }
   ],
   "cell_type": "code",
   "source": [
    "# tenary shift map\n",
    "using Printf\n",
    "\n",
    "tenary_shift(x) = mod(3x, 1)\n",
    "\n",
    "let x = 0.1\n",
    "    for i in 0:53\n",
    "        @printf(\"x(%d) = %0.17f\\n\", i, x)\n",
    "        x = tenary_shift(x)\n",
    "    end\n",
    "end"
   ],
   "metadata": {},
   "execution_count": 2
  },
  {
   "outputs": [],
   "cell_type": "markdown",
   "source": [
    "---\n",
    "\n",
    "*This notebook was generated using [Literate.jl](https://github.com/fredrikekre/Literate.jl).*"
   ],
   "metadata": {}
  }
 ],
 "nbformat_minor": 3,
 "metadata": {
  "language_info": {
   "file_extension": ".jl",
   "mimetype": "application/julia",
   "name": "julia",
   "version": "1.3.0"
  },
  "kernelspec": {
   "name": "julia-1.3",
   "display_name": "Julia 1.3.0",
   "language": "julia"
  }
 },
 "nbformat": 4
}
