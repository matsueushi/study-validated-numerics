{
 "cells": [
  {
   "outputs": [
    {
     "name": "stdout",
     "output_type": "stream",
     "text": [
      "Activating environment at `~/Documents/study-validated-numerics/notebook/Project.toml`\n"
     ]
    }
   ],
   "cell_type": "code",
   "source": [
    "using Pkg; Pkg.activate(\".\"); Pkg.instantiate()"
   ],
   "metadata": {},
   "execution_count": 1
  },
  {
   "outputs": [],
   "cell_type": "markdown",
   "source": [
    "# Chapter 2. Interval Arithmetic\n",
    "## 2.4. Floating Point Interval Arithmetic\n",
    "### 2.4.1. A ~~MATLAB~~ Julia Implementation of Interval Arithmetic"
   ],
   "metadata": {}
  },
  {
   "outputs": [
    {
     "output_type": "execute_result",
     "data": {
      "text/plain": "Union{Float32, Float64}"
     },
     "metadata": {},
     "execution_count": 2
    }
   ],
   "cell_type": "code",
   "source": [
    "using FastRounding\n",
    "const SysFloat = Union{Float32, Float64} # same as FastRounding"
   ],
   "metadata": {},
   "execution_count": 2
  },
  {
   "outputs": [],
   "cell_type": "code",
   "source": [
    "struct Interval{T<:SysFloat}\n",
    "    lo::T\n",
    "    hi::T\n",
    "    function Interval(lo::T, hi::T) where T<:SysFloat\n",
    "        lo <= hi ? new{T}(lo, hi) : throw(ArgumentError(\"The endpoints do not define an interval.\"))\n",
    "    end\n",
    "end\n",
    "\n",
    "Interval(x::SysFloat) = Interval(x, x)\n",
    "\n",
    "function Base.show(io::IO, a::Interval{T}) where T<:SysFloat\n",
    "    print(io, \"Interval{$(T)}(\", a.lo, \", \", a.hi, \")\") # TODO\n",
    "end"
   ],
   "metadata": {},
   "execution_count": 3
  },
  {
   "outputs": [
    {
     "output_type": "execute_result",
     "data": {
      "text/plain": "Interval{Float64}(1.0, 2.0)"
     },
     "metadata": {},
     "execution_count": 4
    }
   ],
   "cell_type": "code",
   "source": [
    "Interval(1.0, 2.0)"
   ],
   "metadata": {},
   "execution_count": 4
  },
  {
   "outputs": [
    {
     "output_type": "execute_result",
     "data": {
      "text/plain": "Interval{Float32}(1.0, 2.0)"
     },
     "metadata": {},
     "execution_count": 5
    }
   ],
   "cell_type": "code",
   "source": [
    "Interval(1f0, 2f0)"
   ],
   "metadata": {},
   "execution_count": 5
  },
  {
   "outputs": [
    {
     "output_type": "execute_result",
     "data": {
      "text/plain": "Interval{Float64}(1.0, 1.0)"
     },
     "metadata": {},
     "execution_count": 6
    }
   ],
   "cell_type": "code",
   "source": [
    "Interval(1.0)"
   ],
   "metadata": {},
   "execution_count": 6
  },
  {
   "outputs": [
    {
     "output_type": "execute_result",
     "data": {
      "text/plain": "Interval{Float64}(1.0, 1.0)"
     },
     "metadata": {},
     "execution_count": 7
    }
   ],
   "cell_type": "code",
   "source": [
    "Interval(1.0, 1.0)"
   ],
   "metadata": {},
   "execution_count": 7
  },
  {
   "outputs": [],
   "cell_type": "code",
   "source": [
    "# NG\n",
    "# Interval(2.0, 1.0)"
   ],
   "metadata": {},
   "execution_count": 8
  },
  {
   "outputs": [],
   "cell_type": "markdown",
   "source": [
    "Define sum of two intervals."
   ],
   "metadata": {}
  },
  {
   "outputs": [],
   "cell_type": "code",
   "source": [
    "function Base.:+(a::Interval{T}, b::Interval{T}) where T<:SysFloat\n",
    "    lo = add_round(a.lo, b.lo, RoundDown)\n",
    "    hi = add_round(a.hi, b.hi, RoundUp)\n",
    "    return Interval(lo, hi)\n",
    "end"
   ],
   "metadata": {},
   "execution_count": 9
  },
  {
   "outputs": [
    {
     "output_type": "execute_result",
     "data": {
      "text/plain": "Interval{Float64}(0.39999999999999997, 0.6000000000000001)"
     },
     "metadata": {},
     "execution_count": 10
    }
   ],
   "cell_type": "code",
   "source": [
    "Interval(0.1, 0.2) + Interval(0.3, 0.4)"
   ],
   "metadata": {},
   "execution_count": 10
  },
  {
   "outputs": [],
   "cell_type": "markdown",
   "source": [
    "---\n",
    "\n",
    "*This notebook was generated using [Literate.jl](https://github.com/fredrikekre/Literate.jl).*"
   ],
   "metadata": {}
  }
 ],
 "nbformat_minor": 3,
 "metadata": {
  "language_info": {
   "file_extension": ".jl",
   "mimetype": "application/julia",
   "name": "julia",
   "version": "1.3.0"
  },
  "kernelspec": {
   "name": "julia-1.3",
   "display_name": "Julia 1.3.0",
   "language": "julia"
  }
 },
 "nbformat": 4
}
