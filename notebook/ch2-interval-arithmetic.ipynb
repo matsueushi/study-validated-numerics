{
 "cells": [
  {
   "outputs": [
    {
     "name": "stdout",
     "output_type": "stream",
     "text": [
      "Activating environment at `~/Documents/study-validated-numerics/notebook/Project.toml`\n"
     ]
    }
   ],
   "cell_type": "code",
   "source": [
    "using Pkg; Pkg.activate(\".\"); Pkg.instantiate()"
   ],
   "metadata": {},
   "execution_count": 1
  },
  {
   "outputs": [],
   "cell_type": "markdown",
   "source": [
    "# Chapter 2. Interval Arithmetic\n",
    "## 2.4. Floating Point Interval Arithmetic\n",
    "### 2.4.1. A ~~MATLAB~~ Julia Implementation of Interval Arithmetic"
   ],
   "metadata": {}
  },
  {
   "outputs": [
    {
     "output_type": "execute_result",
     "data": {
      "text/plain": "Union{Float32, Float64}"
     },
     "metadata": {},
     "execution_count": 2
    }
   ],
   "cell_type": "code",
   "source": [
    "using FastRounding\n",
    "using Printf\n",
    "\n",
    "const SysFloat = Union{Float32, Float64} # same as FastRounding"
   ],
   "metadata": {},
   "execution_count": 2
  },
  {
   "outputs": [],
   "cell_type": "code",
   "source": [
    "struct Interval{T<:SysFloat}\n",
    "    lo::T\n",
    "    hi::T\n",
    "    function Interval(lo::T, hi::T) where T<:SysFloat\n",
    "        lo <= hi ? new{T}(lo, hi) : throw(ArgumentError(\"The endpoints do not define an interval.\"))\n",
    "    end\n",
    "end\n",
    "\n",
    "Interval(lo::Real, hi::Real) = Interval(Float64(lo, RoundDown), Float64(hi, RoundUp))\n",
    "Interval(x::Real) = Interval(x, x)\n",
    "\n",
    "function Base.show(io::IO, a::Interval{T}) where T<:SysFloat\n",
    "    print(io, \"Interval{$(T)}(\", @sprintf(\"%17.17f\", a.lo), \", \", @sprintf(\"%17.17f\", a.hi), \")\")\n",
    "end"
   ],
   "metadata": {},
   "execution_count": 3
  },
  {
   "outputs": [
    {
     "output_type": "execute_result",
     "data": {
      "text/plain": "Interval{Float64}(3.00000000000000000, 4.00000000000000000)"
     },
     "metadata": {},
     "execution_count": 4
    }
   ],
   "cell_type": "code",
   "source": [
    "a = Interval(3, 4)"
   ],
   "metadata": {},
   "execution_count": 4
  },
  {
   "outputs": [
    {
     "output_type": "execute_result",
     "data": {
      "text/plain": "Interval{Float64}(2.00000000000000000, 5.00000000000000000)"
     },
     "metadata": {},
     "execution_count": 5
    }
   ],
   "cell_type": "code",
   "source": [
    "b = Interval(2, 5)"
   ],
   "metadata": {},
   "execution_count": 5
  },
  {
   "outputs": [
    {
     "output_type": "execute_result",
     "data": {
      "text/plain": "Interval{Float64}(1.00000000000000000, 1.00000000000000000)"
     },
     "metadata": {},
     "execution_count": 6
    }
   ],
   "cell_type": "code",
   "source": [
    "c = Interval(1)"
   ],
   "metadata": {},
   "execution_count": 6
  },
  {
   "outputs": [
    {
     "output_type": "execute_result",
     "data": {
      "text/plain": "Interval{Float32}(3.00000000000000000, 4.00000000000000000)"
     },
     "metadata": {},
     "execution_count": 7
    }
   ],
   "cell_type": "code",
   "source": [
    "Interval(3.0f0, 4.0f0)"
   ],
   "metadata": {},
   "execution_count": 7
  },
  {
   "outputs": [
    {
     "output_type": "execute_result",
     "data": {
      "text/plain": "Interval{Float64}(0.09999999999999999, 0.10000000000000001)"
     },
     "metadata": {},
     "execution_count": 8
    }
   ],
   "cell_type": "code",
   "source": [
    "Interval(1//10)"
   ],
   "metadata": {},
   "execution_count": 8
  },
  {
   "outputs": [
    {
     "output_type": "execute_result",
     "data": {
      "text/plain": "Interval{Float64}(3.14159265358979312, 3.14159265358979356)"
     },
     "metadata": {},
     "execution_count": 9
    }
   ],
   "cell_type": "code",
   "source": [
    "Interval(π)"
   ],
   "metadata": {},
   "execution_count": 9
  },
  {
   "outputs": [],
   "cell_type": "code",
   "source": [
    "# NG\n",
    "# Interval(2.0, 1.0)"
   ],
   "metadata": {},
   "execution_count": 10
  },
  {
   "outputs": [],
   "cell_type": "markdown",
   "source": [
    "Define sum of two intervals."
   ],
   "metadata": {}
  },
  {
   "outputs": [],
   "cell_type": "code",
   "source": [
    "function Base.:+(a::Interval, b::Interval)\n",
    "    lo = add_round(a.lo, b.lo, RoundDown)\n",
    "    hi = add_round(a.hi, b.hi, RoundUp)\n",
    "    Interval(lo, hi)\n",
    "end\n",
    "\n",
    "Base.:+(a::Real, b::Interval) = Interval(a) + b\n",
    "Base.:+(a::Interval, b::Real) = a + Interval(b)\n",
    "\n",
    "Base.:+(a::Interval) = a"
   ],
   "metadata": {},
   "execution_count": 11
  },
  {
   "outputs": [
    {
     "output_type": "execute_result",
     "data": {
      "text/plain": "Interval{Float64}(4.00000000000000000, 6.00000000000000000)"
     },
     "metadata": {},
     "execution_count": 12
    }
   ],
   "cell_type": "code",
   "source": [
    "Interval(1, 2) + Interval(3, 4)"
   ],
   "metadata": {},
   "execution_count": 12
  },
  {
   "outputs": [
    {
     "output_type": "execute_result",
     "data": {
      "text/plain": "Interval{Float64}(4.00000000000000000, 5.00000000000000000)"
     },
     "metadata": {},
     "execution_count": 13
    }
   ],
   "cell_type": "code",
   "source": [
    "Interval(1, 2) + Interval(3, 3)"
   ],
   "metadata": {},
   "execution_count": 13
  },
  {
   "outputs": [
    {
     "output_type": "execute_result",
     "data": {
      "text/plain": "Interval{Float64}(4.00000000000000000, 5.00000000000000000)"
     },
     "metadata": {},
     "execution_count": 14
    }
   ],
   "cell_type": "code",
   "source": [
    "Interval(1, 2) + 3"
   ],
   "metadata": {},
   "execution_count": 14
  },
  {
   "outputs": [
    {
     "output_type": "execute_result",
     "data": {
      "text/plain": "Interval{Float64}(4.00000000000000000, 5.00000000000000000)"
     },
     "metadata": {},
     "execution_count": 15
    }
   ],
   "cell_type": "code",
   "source": [
    "3 + Interval(1, 2)"
   ],
   "metadata": {},
   "execution_count": 15
  },
  {
   "outputs": [],
   "cell_type": "markdown",
   "source": [
    "Define other unary and binary functions"
   ],
   "metadata": {}
  },
  {
   "outputs": [],
   "cell_type": "code",
   "source": [
    "function Base.:-(a::Interval, b::Interval)\n",
    "    lo = sub_round(a.lo, b.hi, RoundDown)\n",
    "    hi = sub_round(a.hi, b.lo, RoundUp)\n",
    "    Interval(lo, hi)\n",
    "end\n",
    "\n",
    "Base.:-(a::Real, b::Interval) = Interval(a) - b\n",
    "Base.:-(a::Interval, b::Real) = a - Interval(b)\n",
    "\n",
    "Base.:-(a::Interval) = 0 - a\n",
    "\n",
    "\n",
    "function Base.:*(a::Interval, b::Interval)\n",
    "    lo = min(mul_round(a.lo, b.lo, RoundDown),\n",
    "             mul_round(a.lo, b.hi, RoundDown),\n",
    "             mul_round(a.hi, b.lo, RoundDown),\n",
    "             mul_round(a.hi, b.hi, RoundDown))\n",
    "    hi = max(mul_round(a.lo, b.lo, RoundUp),\n",
    "             mul_round(a.lo, b.hi, RoundUp),\n",
    "             mul_round(a.hi, b.lo, RoundUp),\n",
    "             mul_round(a.hi, b.hi, RoundUp))\n",
    "    Interval(lo, hi)\n",
    "end\n",
    "\n",
    "Base.:*(a::Real, b::Interval) = Interval(a) * b\n",
    "Base.:*(a::Interval, b::Real) = a * Interval(b)\n",
    "\n",
    "\n",
    "function Base.:/(a::Interval, b::Interval)\n",
    "    if (b.lo <= 0.0) & (0.0 <= b.hi)\n",
    "        throw(ArgumentError(\"Denominator straddles zero.\"))\n",
    "    end\n",
    "\n",
    "    lo = min(div_round(a.lo, b.lo, RoundDown),\n",
    "             div_round(a.lo, b.hi, RoundDown),\n",
    "             div_round(a.hi, b.lo, RoundDown),\n",
    "             div_round(a.hi, b.hi, RoundDown))\n",
    "    hi = max(div_round(a.lo, b.lo, RoundUp),\n",
    "             div_round(a.lo, b.hi, RoundUp),\n",
    "             div_round(a.hi, b.lo, RoundUp),\n",
    "             div_round(a.hi, b.hi, RoundUp))\n",
    "    Interval(lo, hi)\n",
    "end\n",
    "\n",
    "Base.:/(a::Real, b::Interval) = Interval(a) / b\n",
    "Base.:/(a::Interval, b::Real) = a / Interval(b)"
   ],
   "metadata": {},
   "execution_count": 16
  },
  {
   "outputs": [],
   "cell_type": "markdown",
   "source": [
    "Unary"
   ],
   "metadata": {}
  },
  {
   "outputs": [
    {
     "output_type": "execute_result",
     "data": {
      "text/plain": "Interval{Float64}(3.00000000000000000, 4.00000000000000000)"
     },
     "metadata": {},
     "execution_count": 17
    }
   ],
   "cell_type": "code",
   "source": [
    "+a"
   ],
   "metadata": {},
   "execution_count": 17
  },
  {
   "outputs": [
    {
     "output_type": "execute_result",
     "data": {
      "text/plain": "Interval{Float64}(-4.00000000000000000, -3.00000000000000000)"
     },
     "metadata": {},
     "execution_count": 18
    }
   ],
   "cell_type": "code",
   "source": [
    "-a"
   ],
   "metadata": {},
   "execution_count": 18
  },
  {
   "outputs": [],
   "cell_type": "markdown",
   "source": [
    "Binary"
   ],
   "metadata": {}
  },
  {
   "outputs": [
    {
     "output_type": "execute_result",
     "data": {
      "text/plain": "Interval{Float64}(5.00000000000000000, 9.00000000000000000)"
     },
     "metadata": {},
     "execution_count": 19
    }
   ],
   "cell_type": "code",
   "source": [
    "a + b"
   ],
   "metadata": {},
   "execution_count": 19
  },
  {
   "outputs": [
    {
     "output_type": "execute_result",
     "data": {
      "text/plain": "Interval{Float64}(-2.00000000000000000, 2.00000000000000000)"
     },
     "metadata": {},
     "execution_count": 20
    }
   ],
   "cell_type": "code",
   "source": [
    "a - b"
   ],
   "metadata": {},
   "execution_count": 20
  },
  {
   "outputs": [
    {
     "output_type": "execute_result",
     "data": {
      "text/plain": "Interval{Float64}(6.00000000000000000, 20.00000000000000000)"
     },
     "metadata": {},
     "execution_count": 21
    }
   ],
   "cell_type": "code",
   "source": [
    "a * b"
   ],
   "metadata": {},
   "execution_count": 21
  },
  {
   "outputs": [
    {
     "output_type": "execute_result",
     "data": {
      "text/plain": "Interval{Float64}(0.59999999999999998, 2.00000000000000000)"
     },
     "metadata": {},
     "execution_count": 22
    }
   ],
   "cell_type": "code",
   "source": [
    "a / b"
   ],
   "metadata": {},
   "execution_count": 22
  },
  {
   "outputs": [
    {
     "output_type": "execute_result",
     "data": {
      "text/plain": "Interval{Float64}(0.10000000000000001, 0.10000000000000001)"
     },
     "metadata": {},
     "execution_count": 23
    }
   ],
   "cell_type": "code",
   "source": [
    "Interval(1/10)"
   ],
   "metadata": {},
   "execution_count": 23
  },
  {
   "outputs": [
    {
     "output_type": "execute_result",
     "data": {
      "text/plain": "Interval{Float64}(0.09999999999999999, 0.10000000000000001)"
     },
     "metadata": {},
     "execution_count": 24
    }
   ],
   "cell_type": "code",
   "source": [
    "Interval(1)/10"
   ],
   "metadata": {},
   "execution_count": 24
  },
  {
   "outputs": [],
   "cell_type": "markdown",
   "source": [
    "Sub-distributivity"
   ],
   "metadata": {}
  },
  {
   "outputs": [
    {
     "output_type": "execute_result",
     "data": {
      "text/plain": "Interval{Float64}(0.09999999999999999, 0.10000000000000001)"
     },
     "metadata": {},
     "execution_count": 25
    }
   ],
   "cell_type": "code",
   "source": [
    "Interval(1//10)"
   ],
   "metadata": {},
   "execution_count": 25
  },
  {
   "outputs": [
    {
     "output_type": "execute_result",
     "data": {
      "text/plain": "Interval{Float64}(3.00000000000000000, 4.00000000000000000)"
     },
     "metadata": {},
     "execution_count": 26
    }
   ],
   "cell_type": "code",
   "source": [
    "a = Interval(-1, 1)\n",
    "b = Interval(-1, 0)\n",
    "c = Interval(3, 4)"
   ],
   "metadata": {},
   "execution_count": 26
  },
  {
   "outputs": [
    {
     "output_type": "execute_result",
     "data": {
      "text/plain": "Interval{Float64}(-4.00000000000000000, 4.00000000000000000)"
     },
     "metadata": {},
     "execution_count": 27
    }
   ],
   "cell_type": "code",
   "source": [
    "a * (b + c)"
   ],
   "metadata": {},
   "execution_count": 27
  },
  {
   "outputs": [
    {
     "output_type": "execute_result",
     "data": {
      "text/plain": "Interval{Float64}(-5.00000000000000000, 5.00000000000000000)"
     },
     "metadata": {},
     "execution_count": 28
    }
   ],
   "cell_type": "code",
   "source": [
    "a * b + a * c"
   ],
   "metadata": {},
   "execution_count": 28
  },
  {
   "outputs": [],
   "cell_type": "markdown",
   "source": [
    "Defial equal"
   ],
   "metadata": {}
  },
  {
   "outputs": [
    {
     "output_type": "execute_result",
     "data": {
      "text/plain": "== (generic function with 156 methods)"
     },
     "metadata": {},
     "execution_count": 29
    }
   ],
   "cell_type": "code",
   "source": [
    "import Base.==\n",
    "\n",
    "==(a::Interval, b::Interval) = a.lo == b.lo && a.hi == b.hi"
   ],
   "metadata": {},
   "execution_count": 29
  },
  {
   "outputs": [
    {
     "output_type": "execute_result",
     "data": {
      "text/plain": "true"
     },
     "metadata": {},
     "execution_count": 30
    }
   ],
   "cell_type": "code",
   "source": [
    "a = Interval(1, 10)\n",
    "b = Interval(-2, 3)\n",
    "c = Interval(3, 5)\n",
    "\n",
    "a == a"
   ],
   "metadata": {},
   "execution_count": 30
  },
  {
   "outputs": [
    {
     "output_type": "execute_result",
     "data": {
      "text/plain": "false"
     },
     "metadata": {},
     "execution_count": 31
    }
   ],
   "cell_type": "code",
   "source": [
    "a == b"
   ],
   "metadata": {},
   "execution_count": 31
  },
  {
   "outputs": [
    {
     "output_type": "execute_result",
     "data": {
      "text/plain": "false"
     },
     "metadata": {},
     "execution_count": 32
    }
   ],
   "cell_type": "code",
   "source": [
    "a == c"
   ],
   "metadata": {},
   "execution_count": 32
  },
  {
   "outputs": [
    {
     "output_type": "execute_result",
     "data": {
      "text/plain": "false"
     },
     "metadata": {},
     "execution_count": 33
    }
   ],
   "cell_type": "code",
   "source": [
    "a != a"
   ],
   "metadata": {},
   "execution_count": 33
  },
  {
   "outputs": [
    {
     "output_type": "execute_result",
     "data": {
      "text/plain": "true"
     },
     "metadata": {},
     "execution_count": 34
    }
   ],
   "cell_type": "code",
   "source": [
    "a != b"
   ],
   "metadata": {},
   "execution_count": 34
  },
  {
   "outputs": [
    {
     "output_type": "execute_result",
     "data": {
      "text/plain": "true"
     },
     "metadata": {},
     "execution_count": 35
    }
   ],
   "cell_type": "code",
   "source": [
    "a != c"
   ],
   "metadata": {},
   "execution_count": 35
  },
  {
   "outputs": [],
   "cell_type": "markdown",
   "source": [
    "Inclusion"
   ],
   "metadata": {}
  },
  {
   "outputs": [],
   "cell_type": "code",
   "source": [
    "Base.issubset(a::Interval, b::Interval) = b.lo <= a.lo && a.hi <= b.hi\n",
    "Base.:⊊(a::Interval, b::Interval) = a ⊆ b && a != b"
   ],
   "metadata": {},
   "execution_count": 36
  },
  {
   "outputs": [
    {
     "output_type": "execute_result",
     "data": {
      "text/plain": "true"
     },
     "metadata": {},
     "execution_count": 37
    }
   ],
   "cell_type": "code",
   "source": [
    "a ⊆ a"
   ],
   "metadata": {},
   "execution_count": 37
  },
  {
   "outputs": [
    {
     "output_type": "execute_result",
     "data": {
      "text/plain": "false"
     },
     "metadata": {},
     "execution_count": 38
    }
   ],
   "cell_type": "code",
   "source": [
    "a ⊆ b"
   ],
   "metadata": {},
   "execution_count": 38
  },
  {
   "outputs": [
    {
     "output_type": "execute_result",
     "data": {
      "text/plain": "false"
     },
     "metadata": {},
     "execution_count": 39
    }
   ],
   "cell_type": "code",
   "source": [
    "b ⊆ a"
   ],
   "metadata": {},
   "execution_count": 39
  },
  {
   "outputs": [
    {
     "output_type": "execute_result",
     "data": {
      "text/plain": "false"
     },
     "metadata": {},
     "execution_count": 40
    }
   ],
   "cell_type": "code",
   "source": [
    "a ⊊ c"
   ],
   "metadata": {},
   "execution_count": 40
  },
  {
   "outputs": [
    {
     "output_type": "execute_result",
     "data": {
      "text/plain": "true"
     },
     "metadata": {},
     "execution_count": 41
    }
   ],
   "cell_type": "code",
   "source": [
    "c ⊊ a"
   ],
   "metadata": {},
   "execution_count": 41
  },
  {
   "outputs": [
    {
     "output_type": "execute_result",
     "data": {
      "text/plain": "false"
     },
     "metadata": {},
     "execution_count": 42
    }
   ],
   "cell_type": "code",
   "source": [
    "a ⊊ a"
   ],
   "metadata": {},
   "execution_count": 42
  },
  {
   "outputs": [
    {
     "output_type": "execute_result",
     "data": {
      "text/plain": "true"
     },
     "metadata": {},
     "execution_count": 43
    }
   ],
   "cell_type": "code",
   "source": [
    "a ⊇ a"
   ],
   "metadata": {},
   "execution_count": 43
  },
  {
   "outputs": [
    {
     "output_type": "execute_result",
     "data": {
      "text/plain": "true"
     },
     "metadata": {},
     "execution_count": 44
    }
   ],
   "cell_type": "code",
   "source": [
    "a ⊇ c"
   ],
   "metadata": {},
   "execution_count": 44
  },
  {
   "outputs": [
    {
     "output_type": "execute_result",
     "data": {
      "text/plain": "false"
     },
     "metadata": {},
     "execution_count": 45
    }
   ],
   "cell_type": "code",
   "source": [
    "a ⊋ a"
   ],
   "metadata": {},
   "execution_count": 45
  },
  {
   "outputs": [
    {
     "output_type": "execute_result",
     "data": {
      "text/plain": "true"
     },
     "metadata": {},
     "execution_count": 46
    }
   ],
   "cell_type": "code",
   "source": [
    "a ⊋ c"
   ],
   "metadata": {},
   "execution_count": 46
  },
  {
   "outputs": [],
   "cell_type": "markdown",
   "source": [
    "---\n",
    "\n",
    "*This notebook was generated using [Literate.jl](https://github.com/fredrikekre/Literate.jl).*"
   ],
   "metadata": {}
  }
 ],
 "nbformat_minor": 3,
 "metadata": {
  "language_info": {
   "file_extension": ".jl",
   "mimetype": "application/julia",
   "name": "julia",
   "version": "1.3.0"
  },
  "kernelspec": {
   "name": "julia-1.3",
   "display_name": "Julia 1.3.0",
   "language": "julia"
  }
 },
 "nbformat": 4
}
